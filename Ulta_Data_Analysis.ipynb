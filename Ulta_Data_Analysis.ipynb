{
 "cells": [
  {
   "cell_type": "code",
   "execution_count": 1,
   "metadata": {},
   "outputs": [],
   "source": [
    "%matplotlib inline"
   ]
  },
  {
   "cell_type": "code",
   "execution_count": 2,
   "metadata": {},
   "outputs": [],
   "source": [
    "import numpy as np\n",
    "import pandas as pd\n",
    "import math\n",
    "from scipy import stats\n",
    "import seaborn as sns\n",
    "from matplotlib import pyplot as plt\n",
    "plt.style.use('ggplot')"
   ]
  },
  {
   "cell_type": "code",
   "execution_count": 3,
   "metadata": {
    "scrolled": true
   },
   "outputs": [
    {
     "name": "stdout",
     "output_type": "stream",
     "text": [
      "(4119, 9)\n"
     ]
    },
    {
     "data": {
      "text/html": [
       "<div>\n",
       "<style scoped>\n",
       "    .dataframe tbody tr th:only-of-type {\n",
       "        vertical-align: middle;\n",
       "    }\n",
       "\n",
       "    .dataframe tbody tr th {\n",
       "        vertical-align: top;\n",
       "    }\n",
       "\n",
       "    .dataframe thead th {\n",
       "        text-align: right;\n",
       "    }\n",
       "</style>\n",
       "<table border=\"1\" class=\"dataframe\">\n",
       "  <thead>\n",
       "    <tr style=\"text-align: right;\">\n",
       "      <th></th>\n",
       "      <th>Product_brand</th>\n",
       "      <th>Product_category</th>\n",
       "      <th>Product_details</th>\n",
       "      <th>Product_name</th>\n",
       "      <th>Product_price</th>\n",
       "      <th>Product_rating</th>\n",
       "      <th>Product_size</th>\n",
       "      <th>Top_category</th>\n",
       "      <th>Tot_reviews</th>\n",
       "    </tr>\n",
       "  </thead>\n",
       "  <tbody>\n",
       "    <tr>\n",
       "      <td>7</td>\n",
       "      <td>Pacifica</td>\n",
       "      <td>Treatment &amp; Serums</td>\n",
       "      <td>Pacifica's Pore Warrior Booster Serum is built...</td>\n",
       "      <td>Pore Warrior Booster Serum</td>\n",
       "      <td>$16.00</td>\n",
       "      <td>NaN</td>\n",
       "      <td>Size 1.0 oz</td>\n",
       "      <td>Skin Care</td>\n",
       "      <td>NaN</td>\n",
       "    </tr>\n",
       "    <tr>\n",
       "      <td>3593</td>\n",
       "      <td>StriVectin</td>\n",
       "      <td>Cleansers</td>\n",
       "      <td>Comforting Creamy Cleanser from StriVectin is ...</td>\n",
       "      <td>Online Only Comforting Cream Cleanser</td>\n",
       "      <td>$29.00</td>\n",
       "      <td>4.70 out of 5 stars</td>\n",
       "      <td>Size 5 oz</td>\n",
       "      <td>Skin Care</td>\n",
       "      <td>37.0</td>\n",
       "    </tr>\n",
       "    <tr>\n",
       "      <td>1446</td>\n",
       "      <td>Neutrogena</td>\n",
       "      <td>Gifts &amp; Value Sets</td>\n",
       "      <td>Works quickly for visible results in just one ...</td>\n",
       "      <td>Rapid Tone Repair Moisturizer Night</td>\n",
       "      <td>$23.99</td>\n",
       "      <td>4.10 out of 5 stars</td>\n",
       "      <td>Size 1 oz</td>\n",
       "      <td>Skin Care</td>\n",
       "      <td>98.0</td>\n",
       "    </tr>\n",
       "  </tbody>\n",
       "</table>\n",
       "</div>"
      ],
      "text/plain": [
       "     Product_brand    Product_category  \\\n",
       "7         Pacifica  Treatment & Serums   \n",
       "3593    StriVectin           Cleansers   \n",
       "1446    Neutrogena  Gifts & Value Sets   \n",
       "\n",
       "                                        Product_details  \\\n",
       "7     Pacifica's Pore Warrior Booster Serum is built...   \n",
       "3593  Comforting Creamy Cleanser from StriVectin is ...   \n",
       "1446  Works quickly for visible results in just one ...   \n",
       "\n",
       "                               Product_name Product_price  \\\n",
       "7                Pore Warrior Booster Serum        $16.00   \n",
       "3593  Online Only Comforting Cream Cleanser        $29.00   \n",
       "1446    Rapid Tone Repair Moisturizer Night        $23.99   \n",
       "\n",
       "           Product_rating Product_size Top_category  Tot_reviews  \n",
       "7                     NaN  Size 1.0 oz    Skin Care          NaN  \n",
       "3593  4.70 out of 5 stars    Size 5 oz    Skin Care         37.0  \n",
       "1446  4.10 out of 5 stars    Size 1 oz    Skin Care         98.0  "
      ]
     },
     "execution_count": 3,
     "metadata": {},
     "output_type": "execute_result"
    }
   ],
   "source": [
    "df_skincare = pd.read_csv('ulta_skincare.csv')\n",
    "print(df_skincare.shape)\n",
    "df_skincare.sample(3)"
   ]
  },
  {
   "cell_type": "code",
   "execution_count": 4,
   "metadata": {},
   "outputs": [
    {
     "name": "stdout",
     "output_type": "stream",
     "text": [
      "(5298, 9)\n"
     ]
    },
    {
     "data": {
      "text/html": [
       "<div>\n",
       "<style scoped>\n",
       "    .dataframe tbody tr th:only-of-type {\n",
       "        vertical-align: middle;\n",
       "    }\n",
       "\n",
       "    .dataframe tbody tr th {\n",
       "        vertical-align: top;\n",
       "    }\n",
       "\n",
       "    .dataframe thead th {\n",
       "        text-align: right;\n",
       "    }\n",
       "</style>\n",
       "<table border=\"1\" class=\"dataframe\">\n",
       "  <thead>\n",
       "    <tr style=\"text-align: right;\">\n",
       "      <th></th>\n",
       "      <th>Product_brand</th>\n",
       "      <th>Product_category</th>\n",
       "      <th>Product_details</th>\n",
       "      <th>Product_name</th>\n",
       "      <th>Product_price</th>\n",
       "      <th>Product_rating</th>\n",
       "      <th>Product_size</th>\n",
       "      <th>Top_category</th>\n",
       "      <th>Tot_reviews</th>\n",
       "    </tr>\n",
       "  </thead>\n",
       "  <tbody>\n",
       "    <tr>\n",
       "      <td>2050</td>\n",
       "      <td>BH Cosmetics</td>\n",
       "      <td>Eyes</td>\n",
       "      <td>Adorn your eyes in decadence with the ItsMyRay...</td>\n",
       "      <td>ItsMyRayeRaye - 15 Color Shadow Palette</td>\n",
       "      <td>$17.50</td>\n",
       "      <td>4.80 out of 5 stars</td>\n",
       "      <td>Size 0.49 oz</td>\n",
       "      <td>Makeup</td>\n",
       "      <td>26.0</td>\n",
       "    </tr>\n",
       "    <tr>\n",
       "      <td>829</td>\n",
       "      <td>Wet n Wild</td>\n",
       "      <td>Face</td>\n",
       "      <td>Slip on Wet n Wild's lightweight water-based P...</td>\n",
       "      <td>Photo Focus Water Drop Primer</td>\n",
       "      <td>$5.99</td>\n",
       "      <td>3.40 out of 5 stars</td>\n",
       "      <td>Size 0.68 oz</td>\n",
       "      <td>Makeup</td>\n",
       "      <td>13.0</td>\n",
       "    </tr>\n",
       "    <tr>\n",
       "      <td>446</td>\n",
       "      <td>Dermadoctor</td>\n",
       "      <td>Face</td>\n",
       "      <td>Helps support a healthy complexion. The alphab...</td>\n",
       "      <td>DD Cream Dermatologically Defining BB Cream Br...</td>\n",
       "      <td>$40.00</td>\n",
       "      <td>4.00 out of 5 stars</td>\n",
       "      <td>Size 1.3 oz</td>\n",
       "      <td>Makeup</td>\n",
       "      <td>124.0</td>\n",
       "    </tr>\n",
       "  </tbody>\n",
       "</table>\n",
       "</div>"
      ],
      "text/plain": [
       "     Product_brand Product_category  \\\n",
       "2050  BH Cosmetics             Eyes   \n",
       "829     Wet n Wild             Face   \n",
       "446    Dermadoctor             Face   \n",
       "\n",
       "                                        Product_details  \\\n",
       "2050  Adorn your eyes in decadence with the ItsMyRay...   \n",
       "829   Slip on Wet n Wild's lightweight water-based P...   \n",
       "446   Helps support a healthy complexion. The alphab...   \n",
       "\n",
       "                                           Product_name Product_price  \\\n",
       "2050            ItsMyRayeRaye - 15 Color Shadow Palette        $17.50   \n",
       "829                       Photo Focus Water Drop Primer         $5.99   \n",
       "446   DD Cream Dermatologically Defining BB Cream Br...        $40.00   \n",
       "\n",
       "           Product_rating  Product_size Top_category  Tot_reviews  \n",
       "2050  4.80 out of 5 stars  Size 0.49 oz       Makeup         26.0  \n",
       "829   3.40 out of 5 stars  Size 0.68 oz       Makeup         13.0  \n",
       "446   4.00 out of 5 stars   Size 1.3 oz       Makeup        124.0  "
      ]
     },
     "execution_count": 4,
     "metadata": {},
     "output_type": "execute_result"
    }
   ],
   "source": [
    "df_makeup = pd.read_csv('ulta_makeup.csv')\n",
    "print(df_makeup.shape)\n",
    "df_makeup.sample(3)"
   ]
  },
  {
   "cell_type": "markdown",
   "metadata": {},
   "source": [
    "### To combine the multiple dataframe into one using pd.concat"
   ]
  },
  {
   "cell_type": "code",
   "execution_count": 5,
   "metadata": {
    "scrolled": true
   },
   "outputs": [
    {
     "name": "stdout",
     "output_type": "stream",
     "text": [
      "(9417, 9)\n"
     ]
    },
    {
     "data": {
      "text/html": [
       "<div>\n",
       "<style scoped>\n",
       "    .dataframe tbody tr th:only-of-type {\n",
       "        vertical-align: middle;\n",
       "    }\n",
       "\n",
       "    .dataframe tbody tr th {\n",
       "        vertical-align: top;\n",
       "    }\n",
       "\n",
       "    .dataframe thead th {\n",
       "        text-align: right;\n",
       "    }\n",
       "</style>\n",
       "<table border=\"1\" class=\"dataframe\">\n",
       "  <thead>\n",
       "    <tr style=\"text-align: right;\">\n",
       "      <th></th>\n",
       "      <th>Product_brand</th>\n",
       "      <th>Product_category</th>\n",
       "      <th>Product_details</th>\n",
       "      <th>Product_name</th>\n",
       "      <th>Product_price</th>\n",
       "      <th>Product_rating</th>\n",
       "      <th>Product_size</th>\n",
       "      <th>Top_category</th>\n",
       "      <th>Tot_reviews</th>\n",
       "    </tr>\n",
       "  </thead>\n",
       "  <tbody>\n",
       "    <tr>\n",
       "      <td>6265</td>\n",
       "      <td>Dose Of Colors</td>\n",
       "      <td>Eyes</td>\n",
       "      <td>Dose Of Colors x iluvsarahii Eyeshadow Palette...</td>\n",
       "      <td>Online Only Dose Of Colors x iluvsarahii Eyesh...</td>\n",
       "      <td>$35.00</td>\n",
       "      <td>3.90 out of 5 stars</td>\n",
       "      <td>Item 2534621</td>\n",
       "      <td>Makeup</td>\n",
       "      <td>65.0</td>\n",
       "    </tr>\n",
       "    <tr>\n",
       "      <td>1712</td>\n",
       "      <td>DERMAFLASH</td>\n",
       "      <td>Tools</td>\n",
       "      <td>Powered by ultrasonic skin scrubbing and infus...</td>\n",
       "      <td>Online Only DERMAPORE Ultrasonic Pore Extracto...</td>\n",
       "      <td>$99.00</td>\n",
       "      <td>4.20 out of 5 stars</td>\n",
       "      <td>Item 2553240</td>\n",
       "      <td>Skin Care</td>\n",
       "      <td>86.0</td>\n",
       "    </tr>\n",
       "    <tr>\n",
       "      <td>6727</td>\n",
       "      <td>FLOWER Beauty</td>\n",
       "      <td>Eyes</td>\n",
       "      <td>Get the pumped up punk royal look with +112% s...</td>\n",
       "      <td>Warrior Princess Mascara</td>\n",
       "      <td>$9.99</td>\n",
       "      <td>4.40 out of 5 stars</td>\n",
       "      <td>Size 0.35 oz</td>\n",
       "      <td>Makeup</td>\n",
       "      <td>19.0</td>\n",
       "    </tr>\n",
       "  </tbody>\n",
       "</table>\n",
       "</div>"
      ],
      "text/plain": [
       "       Product_brand Product_category  \\\n",
       "6265  Dose Of Colors             Eyes   \n",
       "1712      DERMAFLASH            Tools   \n",
       "6727   FLOWER Beauty             Eyes   \n",
       "\n",
       "                                        Product_details  \\\n",
       "6265  Dose Of Colors x iluvsarahii Eyeshadow Palette...   \n",
       "1712  Powered by ultrasonic skin scrubbing and infus...   \n",
       "6727  Get the pumped up punk royal look with +112% s...   \n",
       "\n",
       "                                           Product_name Product_price  \\\n",
       "6265  Online Only Dose Of Colors x iluvsarahii Eyesh...        $35.00   \n",
       "1712  Online Only DERMAPORE Ultrasonic Pore Extracto...        $99.00   \n",
       "6727                           Warrior Princess Mascara         $9.99   \n",
       "\n",
       "           Product_rating  Product_size Top_category  Tot_reviews  \n",
       "6265  3.90 out of 5 stars  Item 2534621       Makeup         65.0  \n",
       "1712  4.20 out of 5 stars  Item 2553240    Skin Care         86.0  \n",
       "6727  4.40 out of 5 stars  Size 0.35 oz       Makeup         19.0  "
      ]
     },
     "execution_count": 5,
     "metadata": {},
     "output_type": "execute_result"
    }
   ],
   "source": [
    "df = pd.concat([df_skincare,df_makeup],axis = 0)\n",
    "df.index = range(0, len(df))\n",
    "print(df.shape)\n",
    "df.sample(3)"
   ]
  },
  {
   "cell_type": "code",
   "execution_count": 6,
   "metadata": {},
   "outputs": [
    {
     "data": {
      "text/plain": [
       "Product_brand        object\n",
       "Product_category     object\n",
       "Product_details      object\n",
       "Product_name         object\n",
       "Product_price        object\n",
       "Product_rating       object\n",
       "Product_size         object\n",
       "Top_category         object\n",
       "Tot_reviews         float64\n",
       "dtype: object"
      ]
     },
     "execution_count": 6,
     "metadata": {},
     "output_type": "execute_result"
    }
   ],
   "source": [
    "df.dtypes"
   ]
  },
  {
   "cell_type": "code",
   "execution_count": 7,
   "metadata": {},
   "outputs": [
    {
     "data": {
      "text/plain": [
       "Product_brand         1\n",
       "Product_category      0\n",
       "Product_details      10\n",
       "Product_name          1\n",
       "Product_price       241\n",
       "Product_rating      526\n",
       "Product_size          1\n",
       "Top_category          0\n",
       "Tot_reviews         617\n",
       "dtype: int64"
      ]
     },
     "execution_count": 7,
     "metadata": {},
     "output_type": "execute_result"
    }
   ],
   "source": [
    "np.sum(df.isnull())"
   ]
  },
  {
   "cell_type": "code",
   "execution_count": 8,
   "metadata": {},
   "outputs": [
    {
     "data": {
      "text/html": [
       "<div>\n",
       "<style scoped>\n",
       "    .dataframe tbody tr th:only-of-type {\n",
       "        vertical-align: middle;\n",
       "    }\n",
       "\n",
       "    .dataframe tbody tr th {\n",
       "        vertical-align: top;\n",
       "    }\n",
       "\n",
       "    .dataframe thead th {\n",
       "        text-align: right;\n",
       "    }\n",
       "</style>\n",
       "<table border=\"1\" class=\"dataframe\">\n",
       "  <thead>\n",
       "    <tr style=\"text-align: right;\">\n",
       "      <th></th>\n",
       "      <th>Product_brand</th>\n",
       "      <th>Product_category</th>\n",
       "      <th>Product_details</th>\n",
       "      <th>Product_name</th>\n",
       "      <th>Product_price</th>\n",
       "      <th>Product_rating</th>\n",
       "      <th>Product_size</th>\n",
       "      <th>Top_category</th>\n",
       "      <th>Tot_reviews</th>\n",
       "    </tr>\n",
       "  </thead>\n",
       "  <tbody>\n",
       "    <tr>\n",
       "      <td>5221</td>\n",
       "      <td>beautyblender</td>\n",
       "      <td>Face</td>\n",
       "      <td>beautyblender Re-Dew Set &amp; Refresh Spray is a ...</td>\n",
       "      <td>Online Only Re-Dew Set &amp; Refresh Spray</td>\n",
       "      <td>$30.00</td>\n",
       "      <td>3.30 out of 5 stars</td>\n",
       "      <td>Size 1.69 oz</td>\n",
       "      <td>Makeup</td>\n",
       "      <td>7.0</td>\n",
       "    </tr>\n",
       "    <tr>\n",
       "      <td>1510</td>\n",
       "      <td>Peter Thomas Roth</td>\n",
       "      <td>Gifts &amp; Value Sets</td>\n",
       "      <td>Peter Thomas Roth's Peptide 21 Wrinkle Resist ...</td>\n",
       "      <td>Peptide 21 Wrinkle Resist Kit</td>\n",
       "      <td>$65.00</td>\n",
       "      <td>4.60 out of 5 stars</td>\n",
       "      <td>Item 2549895</td>\n",
       "      <td>Skin Care</td>\n",
       "      <td>5.0</td>\n",
       "    </tr>\n",
       "    <tr>\n",
       "      <td>4644</td>\n",
       "      <td>e.l.f. Cosmetics</td>\n",
       "      <td>Face</td>\n",
       "      <td>This beautiful e.l.f. Cosmetics Contour Palett...</td>\n",
       "      <td>Contour Palette</td>\n",
       "      <td>$8.00</td>\n",
       "      <td>3.70 out of 5 stars</td>\n",
       "      <td>Size 0.56 oz</td>\n",
       "      <td>Makeup</td>\n",
       "      <td>102.0</td>\n",
       "    </tr>\n",
       "  </tbody>\n",
       "</table>\n",
       "</div>"
      ],
      "text/plain": [
       "          Product_brand    Product_category  \\\n",
       "5221      beautyblender                Face   \n",
       "1510  Peter Thomas Roth  Gifts & Value Sets   \n",
       "4644   e.l.f. Cosmetics                Face   \n",
       "\n",
       "                                        Product_details  \\\n",
       "5221  beautyblender Re-Dew Set & Refresh Spray is a ...   \n",
       "1510  Peter Thomas Roth's Peptide 21 Wrinkle Resist ...   \n",
       "4644  This beautiful e.l.f. Cosmetics Contour Palett...   \n",
       "\n",
       "                                Product_name Product_price  \\\n",
       "5221  Online Only Re-Dew Set & Refresh Spray        $30.00   \n",
       "1510           Peptide 21 Wrinkle Resist Kit        $65.00   \n",
       "4644                         Contour Palette         $8.00   \n",
       "\n",
       "           Product_rating  Product_size Top_category  Tot_reviews  \n",
       "5221  3.30 out of 5 stars  Size 1.69 oz       Makeup          7.0  \n",
       "1510  4.60 out of 5 stars  Item 2549895    Skin Care          5.0  \n",
       "4644  3.70 out of 5 stars  Size 0.56 oz       Makeup        102.0  "
      ]
     },
     "execution_count": 8,
     "metadata": {},
     "output_type": "execute_result"
    }
   ],
   "source": [
    "df.to_csv('Original Data.csv') \n",
    "df.sample(3)"
   ]
  },
  {
   "cell_type": "markdown",
   "metadata": {},
   "source": [
    "### Rearrange columns order"
   ]
  },
  {
   "cell_type": "code",
   "execution_count": 9,
   "metadata": {},
   "outputs": [
    {
     "data": {
      "text/html": [
       "<div>\n",
       "<style scoped>\n",
       "    .dataframe tbody tr th:only-of-type {\n",
       "        vertical-align: middle;\n",
       "    }\n",
       "\n",
       "    .dataframe tbody tr th {\n",
       "        vertical-align: top;\n",
       "    }\n",
       "\n",
       "    .dataframe thead th {\n",
       "        text-align: right;\n",
       "    }\n",
       "</style>\n",
       "<table border=\"1\" class=\"dataframe\">\n",
       "  <thead>\n",
       "    <tr style=\"text-align: right;\">\n",
       "      <th></th>\n",
       "      <th>Top_category</th>\n",
       "      <th>Product_category</th>\n",
       "      <th>Product_brand</th>\n",
       "      <th>Product_name</th>\n",
       "      <th>Product_rating</th>\n",
       "      <th>Tot_reviews</th>\n",
       "      <th>Product_price</th>\n",
       "      <th>Product_size</th>\n",
       "      <th>Product_details</th>\n",
       "    </tr>\n",
       "  </thead>\n",
       "  <tbody>\n",
       "    <tr>\n",
       "      <td>6553</td>\n",
       "      <td>Makeup</td>\n",
       "      <td>Eyes</td>\n",
       "      <td>Maybelline</td>\n",
       "      <td>Volum' Express Pumped Up! Colossal Waterproof ...</td>\n",
       "      <td>3.80 out of 5 stars</td>\n",
       "      <td>31.0</td>\n",
       "      <td>$7.99</td>\n",
       "      <td>Size 0.33 oz</td>\n",
       "      <td>Lashes go bigger, bolder, more extreme with Ma...</td>\n",
       "    </tr>\n",
       "    <tr>\n",
       "      <td>495</td>\n",
       "      <td>Skin Care</td>\n",
       "      <td>Cleansers</td>\n",
       "      <td>Formula 10.0.6</td>\n",
       "      <td>Bare Face Beauty Skin-Hydrating Cleansing Oil</td>\n",
       "      <td>3.90 out of 5 stars</td>\n",
       "      <td>96.0</td>\n",
       "      <td>$8.99</td>\n",
       "      <td>Size 3.7 oz</td>\n",
       "      <td>Only at ULTA!</td>\n",
       "    </tr>\n",
       "    <tr>\n",
       "      <td>4642</td>\n",
       "      <td>Makeup</td>\n",
       "      <td>Face</td>\n",
       "      <td>Pacifica</td>\n",
       "      <td>Neutralizing Mattifier Soft Focus Translucent ...</td>\n",
       "      <td>4.10 out of 5 stars</td>\n",
       "      <td>51.0</td>\n",
       "      <td>$12.00</td>\n",
       "      <td>Size 0.28 oz</td>\n",
       "      <td>Pacifica's Neutralizing Mattifier Soft Focus T...</td>\n",
       "    </tr>\n",
       "    <tr>\n",
       "      <td>8004</td>\n",
       "      <td>Makeup</td>\n",
       "      <td>Lips</td>\n",
       "      <td>Morphe</td>\n",
       "      <td>Online Only Pop Of Pastel Matte Lipstick Trio</td>\n",
       "      <td>NaN</td>\n",
       "      <td>NaN</td>\n",
       "      <td>$18.00</td>\n",
       "      <td>Item 2560716</td>\n",
       "      <td>Exclusive.</td>\n",
       "    </tr>\n",
       "    <tr>\n",
       "      <td>5109</td>\n",
       "      <td>Makeup</td>\n",
       "      <td>Face</td>\n",
       "      <td>Makeup Revolution</td>\n",
       "      <td>Hydrate Primer</td>\n",
       "      <td>3.70 out of 5 stars</td>\n",
       "      <td>3.0</td>\n",
       "      <td>$8.00</td>\n",
       "      <td>Size 0.95 oz</td>\n",
       "      <td>Exclusive.</td>\n",
       "    </tr>\n",
       "  </tbody>\n",
       "</table>\n",
       "</div>"
      ],
      "text/plain": [
       "     Top_category Product_category      Product_brand  \\\n",
       "6553       Makeup             Eyes         Maybelline   \n",
       "495     Skin Care        Cleansers     Formula 10.0.6   \n",
       "4642       Makeup             Face           Pacifica   \n",
       "8004       Makeup             Lips             Morphe   \n",
       "5109       Makeup             Face  Makeup Revolution   \n",
       "\n",
       "                                           Product_name       Product_rating  \\\n",
       "6553  Volum' Express Pumped Up! Colossal Waterproof ...  3.80 out of 5 stars   \n",
       "495       Bare Face Beauty Skin-Hydrating Cleansing Oil  3.90 out of 5 stars   \n",
       "4642  Neutralizing Mattifier Soft Focus Translucent ...  4.10 out of 5 stars   \n",
       "8004      Online Only Pop Of Pastel Matte Lipstick Trio                  NaN   \n",
       "5109                                     Hydrate Primer  3.70 out of 5 stars   \n",
       "\n",
       "      Tot_reviews Product_price  Product_size  \\\n",
       "6553         31.0         $7.99  Size 0.33 oz   \n",
       "495          96.0         $8.99   Size 3.7 oz   \n",
       "4642         51.0        $12.00  Size 0.28 oz   \n",
       "8004          NaN        $18.00  Item 2560716   \n",
       "5109          3.0         $8.00  Size 0.95 oz   \n",
       "\n",
       "                                        Product_details  \n",
       "6553  Lashes go bigger, bolder, more extreme with Ma...  \n",
       "495                                       Only at ULTA!  \n",
       "4642  Pacifica's Neutralizing Mattifier Soft Focus T...  \n",
       "8004                                         Exclusive.  \n",
       "5109                                         Exclusive.  "
      ]
     },
     "execution_count": 9,
     "metadata": {},
     "output_type": "execute_result"
    }
   ],
   "source": [
    "df = df[['Top_category','Product_category','Product_brand','Product_name','Product_rating','Tot_reviews','Product_price','Product_size','Product_details']]\n",
    "df.sample(5)"
   ]
  },
  {
   "cell_type": "markdown",
   "metadata": {},
   "source": [
    "### Remove rows that have any missing  values"
   ]
  },
  {
   "cell_type": "code",
   "execution_count": 10,
   "metadata": {},
   "outputs": [
    {
     "data": {
      "text/plain": [
       "(8565, 9)"
      ]
     },
     "execution_count": 10,
     "metadata": {},
     "output_type": "execute_result"
    }
   ],
   "source": [
    "df = df.dropna(axis=0, how='any')  \n",
    "df.shape"
   ]
  },
  {
   "cell_type": "code",
   "execution_count": 11,
   "metadata": {},
   "outputs": [
    {
     "data": {
      "text/plain": [
       "Top_category        0\n",
       "Product_category    0\n",
       "Product_brand       0\n",
       "Product_name        0\n",
       "Product_rating      0\n",
       "Tot_reviews         0\n",
       "Product_price       0\n",
       "Product_size        0\n",
       "Product_details     0\n",
       "dtype: int64"
      ]
     },
     "execution_count": 11,
     "metadata": {},
     "output_type": "execute_result"
    }
   ],
   "source": [
    "np.sum(df.isnull())"
   ]
  },
  {
   "cell_type": "markdown",
   "metadata": {},
   "source": [
    "### Convert column type"
   ]
  },
  {
   "cell_type": "code",
   "execution_count": 12,
   "metadata": {},
   "outputs": [
    {
     "data": {
      "text/plain": [
       "dtype('float64')"
      ]
     },
     "execution_count": 12,
     "metadata": {},
     "output_type": "execute_result"
    }
   ],
   "source": [
    "df.Product_price = df.Product_price.apply(lambda x:float(''.join(list(x)[1:])))  # convert string $66.00 to float 66.00\n",
    "df.Product_price.dtype"
   ]
  },
  {
   "cell_type": "code",
   "execution_count": 13,
   "metadata": {},
   "outputs": [
    {
     "data": {
      "text/plain": [
       "count    8565.000000\n",
       "mean       23.923372\n",
       "std        22.967391\n",
       "min         0.970000\n",
       "25%         9.990000\n",
       "50%        18.000000\n",
       "75%        30.000000\n",
       "max       429.000000\n",
       "Name: Product_price, dtype: float64"
      ]
     },
     "execution_count": 13,
     "metadata": {},
     "output_type": "execute_result"
    }
   ],
   "source": [
    "df.Product_price.describe()"
   ]
  },
  {
   "cell_type": "code",
   "execution_count": 14,
   "metadata": {},
   "outputs": [],
   "source": [
    "df.Product_rating =  df.Product_rating.apply(lambda x:float(x.split()[0]))"
   ]
  },
  {
   "cell_type": "code",
   "execution_count": 15,
   "metadata": {},
   "outputs": [
    {
     "data": {
      "text/plain": [
       "Top_category         object\n",
       "Product_category     object\n",
       "Product_brand        object\n",
       "Product_name         object\n",
       "Product_rating      float64\n",
       "Tot_reviews         float64\n",
       "Product_price       float64\n",
       "Product_size         object\n",
       "Product_details      object\n",
       "dtype: object"
      ]
     },
     "execution_count": 15,
     "metadata": {},
     "output_type": "execute_result"
    }
   ],
   "source": [
    "df.dtypes"
   ]
  },
  {
   "cell_type": "code",
   "execution_count": 16,
   "metadata": {},
   "outputs": [
    {
     "data": {
      "text/html": [
       "<div>\n",
       "<style scoped>\n",
       "    .dataframe tbody tr th:only-of-type {\n",
       "        vertical-align: middle;\n",
       "    }\n",
       "\n",
       "    .dataframe tbody tr th {\n",
       "        vertical-align: top;\n",
       "    }\n",
       "\n",
       "    .dataframe thead th {\n",
       "        text-align: right;\n",
       "    }\n",
       "</style>\n",
       "<table border=\"1\" class=\"dataframe\">\n",
       "  <thead>\n",
       "    <tr style=\"text-align: right;\">\n",
       "      <th></th>\n",
       "      <th>Product_rating</th>\n",
       "      <th>Tot_reviews</th>\n",
       "      <th>Product_price</th>\n",
       "    </tr>\n",
       "  </thead>\n",
       "  <tbody>\n",
       "    <tr>\n",
       "      <td>count</td>\n",
       "      <td>8565.000000</td>\n",
       "      <td>8565.000000</td>\n",
       "      <td>8565.000000</td>\n",
       "    </tr>\n",
       "    <tr>\n",
       "      <td>mean</td>\n",
       "      <td>4.210928</td>\n",
       "      <td>203.399066</td>\n",
       "      <td>23.923372</td>\n",
       "    </tr>\n",
       "    <tr>\n",
       "      <td>std</td>\n",
       "      <td>0.587500</td>\n",
       "      <td>629.844772</td>\n",
       "      <td>22.967391</td>\n",
       "    </tr>\n",
       "    <tr>\n",
       "      <td>min</td>\n",
       "      <td>1.000000</td>\n",
       "      <td>1.000000</td>\n",
       "      <td>0.970000</td>\n",
       "    </tr>\n",
       "    <tr>\n",
       "      <td>25%</td>\n",
       "      <td>4.000000</td>\n",
       "      <td>10.000000</td>\n",
       "      <td>9.990000</td>\n",
       "    </tr>\n",
       "    <tr>\n",
       "      <td>50%</td>\n",
       "      <td>4.300000</td>\n",
       "      <td>40.000000</td>\n",
       "      <td>18.000000</td>\n",
       "    </tr>\n",
       "    <tr>\n",
       "      <td>75%</td>\n",
       "      <td>4.600000</td>\n",
       "      <td>148.000000</td>\n",
       "      <td>30.000000</td>\n",
       "    </tr>\n",
       "    <tr>\n",
       "      <td>max</td>\n",
       "      <td>5.000000</td>\n",
       "      <td>14165.000000</td>\n",
       "      <td>429.000000</td>\n",
       "    </tr>\n",
       "  </tbody>\n",
       "</table>\n",
       "</div>"
      ],
      "text/plain": [
       "       Product_rating   Tot_reviews  Product_price\n",
       "count     8565.000000   8565.000000    8565.000000\n",
       "mean         4.210928    203.399066      23.923372\n",
       "std          0.587500    629.844772      22.967391\n",
       "min          1.000000      1.000000       0.970000\n",
       "25%          4.000000     10.000000       9.990000\n",
       "50%          4.300000     40.000000      18.000000\n",
       "75%          4.600000    148.000000      30.000000\n",
       "max          5.000000  14165.000000     429.000000"
      ]
     },
     "execution_count": 16,
     "metadata": {},
     "output_type": "execute_result"
    }
   ],
   "source": [
    "df.describe()"
   ]
  },
  {
   "cell_type": "markdown",
   "metadata": {},
   "source": [
    "### Filter out rows that have less than 10 reviews"
   ]
  },
  {
   "cell_type": "code",
   "execution_count": 17,
   "metadata": {},
   "outputs": [
    {
     "data": {
      "text/plain": [
       "(6310, 9)"
      ]
     },
     "execution_count": 17,
     "metadata": {},
     "output_type": "execute_result"
    }
   ],
   "source": [
    "df_filtered = df[df.Tot_reviews>10]\n",
    "df_filtered.shape"
   ]
  },
  {
   "cell_type": "code",
   "execution_count": 18,
   "metadata": {},
   "outputs": [
    {
     "data": {
      "text/html": [
       "<div>\n",
       "<style scoped>\n",
       "    .dataframe tbody tr th:only-of-type {\n",
       "        vertical-align: middle;\n",
       "    }\n",
       "\n",
       "    .dataframe tbody tr th {\n",
       "        vertical-align: top;\n",
       "    }\n",
       "\n",
       "    .dataframe thead th {\n",
       "        text-align: right;\n",
       "    }\n",
       "</style>\n",
       "<table border=\"1\" class=\"dataframe\">\n",
       "  <thead>\n",
       "    <tr style=\"text-align: right;\">\n",
       "      <th></th>\n",
       "      <th>Top_category</th>\n",
       "      <th>Product_category</th>\n",
       "      <th>Product_brand</th>\n",
       "      <th>Product_name</th>\n",
       "      <th>Product_rating</th>\n",
       "      <th>Tot_reviews</th>\n",
       "      <th>Product_price</th>\n",
       "      <th>Product_size</th>\n",
       "      <th>Product_details</th>\n",
       "    </tr>\n",
       "  </thead>\n",
       "  <tbody>\n",
       "    <tr>\n",
       "      <td>7401</td>\n",
       "      <td>Makeup</td>\n",
       "      <td>Makeup Brushes &amp; Tools</td>\n",
       "      <td>bareMinerals</td>\n",
       "      <td>Quick Change Brush Cleaner</td>\n",
       "      <td>4.4</td>\n",
       "      <td>87.0</td>\n",
       "      <td>18.00</td>\n",
       "      <td>Size 3.7 oz</td>\n",
       "      <td>Like to explore different looks? Use bareMiner...</td>\n",
       "    </tr>\n",
       "    <tr>\n",
       "      <td>1048</td>\n",
       "      <td>Skin Care</td>\n",
       "      <td>Moisturizers</td>\n",
       "      <td>L'Oréal</td>\n",
       "      <td>Age Perfect Hydra Nutrition Honey Night Balm P...</td>\n",
       "      <td>4.4</td>\n",
       "      <td>528.0</td>\n",
       "      <td>19.99</td>\n",
       "      <td>Size 1.7 oz</td>\n",
       "      <td>L'Oreal's Age Perfect Hydra Nutrition Honey Ni...</td>\n",
       "    </tr>\n",
       "    <tr>\n",
       "      <td>7678</td>\n",
       "      <td>Makeup</td>\n",
       "      <td>Lips</td>\n",
       "      <td>Lime Crime</td>\n",
       "      <td>Online Only Metallic Velvetine Lipstick</td>\n",
       "      <td>4.2</td>\n",
       "      <td>29.0</td>\n",
       "      <td>20.00</td>\n",
       "      <td>Size 0.088 oz</td>\n",
       "      <td>The original liquid metallic lipstick inspired...</td>\n",
       "    </tr>\n",
       "  </tbody>\n",
       "</table>\n",
       "</div>"
      ],
      "text/plain": [
       "     Top_category        Product_category Product_brand  \\\n",
       "7401       Makeup  Makeup Brushes & Tools  bareMinerals   \n",
       "1048    Skin Care            Moisturizers       L'Oréal   \n",
       "7678       Makeup                    Lips    Lime Crime   \n",
       "\n",
       "                                           Product_name  Product_rating  \\\n",
       "7401                         Quick Change Brush Cleaner             4.4   \n",
       "1048  Age Perfect Hydra Nutrition Honey Night Balm P...             4.4   \n",
       "7678            Online Only Metallic Velvetine Lipstick             4.2   \n",
       "\n",
       "      Tot_reviews  Product_price   Product_size  \\\n",
       "7401         87.0          18.00    Size 3.7 oz   \n",
       "1048        528.0          19.99    Size 1.7 oz   \n",
       "7678         29.0          20.00  Size 0.088 oz   \n",
       "\n",
       "                                        Product_details  \n",
       "7401  Like to explore different looks? Use bareMiner...  \n",
       "1048  L'Oreal's Age Perfect Hydra Nutrition Honey Ni...  \n",
       "7678  The original liquid metallic lipstick inspired...  "
      ]
     },
     "execution_count": 18,
     "metadata": {},
     "output_type": "execute_result"
    }
   ],
   "source": [
    "df_filtered.sample(3)"
   ]
  },
  {
   "cell_type": "code",
   "execution_count": 19,
   "metadata": {},
   "outputs": [
    {
     "data": {
      "text/html": [
       "<div>\n",
       "<style scoped>\n",
       "    .dataframe tbody tr th:only-of-type {\n",
       "        vertical-align: middle;\n",
       "    }\n",
       "\n",
       "    .dataframe tbody tr th {\n",
       "        vertical-align: top;\n",
       "    }\n",
       "\n",
       "    .dataframe thead th {\n",
       "        text-align: right;\n",
       "    }\n",
       "</style>\n",
       "<table border=\"1\" class=\"dataframe\">\n",
       "  <thead>\n",
       "    <tr style=\"text-align: right;\">\n",
       "      <th></th>\n",
       "      <th>Product_rating</th>\n",
       "      <th>Tot_reviews</th>\n",
       "      <th>Product_price</th>\n",
       "    </tr>\n",
       "  </thead>\n",
       "  <tbody>\n",
       "    <tr>\n",
       "      <td>count</td>\n",
       "      <td>6310.000000</td>\n",
       "      <td>6310.000000</td>\n",
       "      <td>6310.000000</td>\n",
       "    </tr>\n",
       "    <tr>\n",
       "      <td>min</td>\n",
       "      <td>1.300000</td>\n",
       "      <td>11.000000</td>\n",
       "      <td>0.970000</td>\n",
       "    </tr>\n",
       "    <tr>\n",
       "      <td>mean</td>\n",
       "      <td>4.206624</td>\n",
       "      <td>274.452298</td>\n",
       "      <td>23.545239</td>\n",
       "    </tr>\n",
       "  </tbody>\n",
       "</table>\n",
       "</div>"
      ],
      "text/plain": [
       "       Product_rating  Tot_reviews  Product_price\n",
       "count     6310.000000  6310.000000    6310.000000\n",
       "min          1.300000    11.000000       0.970000\n",
       "mean         4.206624   274.452298      23.545239"
      ]
     },
     "execution_count": 19,
     "metadata": {},
     "output_type": "execute_result"
    }
   ],
   "source": [
    "df_filtered[['Product_rating','Tot_reviews','Product_price']].agg([\"count\",\"min\",\"mean\"])"
   ]
  },
  {
   "cell_type": "code",
   "execution_count": 20,
   "metadata": {},
   "outputs": [
    {
     "data": {
      "text/html": [
       "<div>\n",
       "<style scoped>\n",
       "    .dataframe tbody tr th:only-of-type {\n",
       "        vertical-align: middle;\n",
       "    }\n",
       "\n",
       "    .dataframe tbody tr th {\n",
       "        vertical-align: top;\n",
       "    }\n",
       "\n",
       "    .dataframe thead th {\n",
       "        text-align: right;\n",
       "    }\n",
       "</style>\n",
       "<table border=\"1\" class=\"dataframe\">\n",
       "  <thead>\n",
       "    <tr style=\"text-align: right;\">\n",
       "      <th></th>\n",
       "      <th>Product_rating</th>\n",
       "    </tr>\n",
       "  </thead>\n",
       "  <tbody>\n",
       "    <tr>\n",
       "      <td>Product_rating</td>\n",
       "      <td>1.00000</td>\n",
       "    </tr>\n",
       "    <tr>\n",
       "      <td>Tot_reviews</td>\n",
       "      <td>0.05167</td>\n",
       "    </tr>\n",
       "    <tr>\n",
       "      <td>Product_price</td>\n",
       "      <td>0.11920</td>\n",
       "    </tr>\n",
       "  </tbody>\n",
       "</table>\n",
       "</div>"
      ],
      "text/plain": [
       "                Product_rating\n",
       "Product_rating         1.00000\n",
       "Tot_reviews            0.05167\n",
       "Product_price          0.11920"
      ]
     },
     "execution_count": 20,
     "metadata": {},
     "output_type": "execute_result"
    }
   ],
   "source": [
    "df.corr(method = \"pearson\")[['Product_rating']]"
   ]
  },
  {
   "cell_type": "code",
   "execution_count": 21,
   "metadata": {},
   "outputs": [
    {
     "data": {
      "text/html": [
       "<div>\n",
       "<style scoped>\n",
       "    .dataframe tbody tr th:only-of-type {\n",
       "        vertical-align: middle;\n",
       "    }\n",
       "\n",
       "    .dataframe tbody tr th {\n",
       "        vertical-align: top;\n",
       "    }\n",
       "\n",
       "    .dataframe thead th {\n",
       "        text-align: right;\n",
       "    }\n",
       "</style>\n",
       "<table border=\"1\" class=\"dataframe\">\n",
       "  <thead>\n",
       "    <tr style=\"text-align: right;\">\n",
       "      <th></th>\n",
       "      <th>Product_rating</th>\n",
       "    </tr>\n",
       "  </thead>\n",
       "  <tbody>\n",
       "    <tr>\n",
       "      <td>Product_rating</td>\n",
       "      <td>1.000000</td>\n",
       "    </tr>\n",
       "    <tr>\n",
       "      <td>Tot_reviews</td>\n",
       "      <td>0.079206</td>\n",
       "    </tr>\n",
       "    <tr>\n",
       "      <td>Product_price</td>\n",
       "      <td>0.154769</td>\n",
       "    </tr>\n",
       "  </tbody>\n",
       "</table>\n",
       "</div>"
      ],
      "text/plain": [
       "                Product_rating\n",
       "Product_rating        1.000000\n",
       "Tot_reviews           0.079206\n",
       "Product_price         0.154769"
      ]
     },
     "execution_count": 21,
     "metadata": {},
     "output_type": "execute_result"
    }
   ],
   "source": [
    "df_filtered.corr(method = \"pearson\")[['Product_rating']]"
   ]
  },
  {
   "cell_type": "markdown",
   "metadata": {},
   "source": [
    "Ratings are poorly correlated with number of reviews and product price "
   ]
  },
  {
   "cell_type": "markdown",
   "metadata": {},
   "source": [
    "### Histogram of Product Rating for all products "
   ]
  },
  {
   "cell_type": "code",
   "execution_count": 22,
   "metadata": {},
   "outputs": [
    {
     "data": {
      "text/plain": [
       "Text(0.5, 1.0, 'Histogram of Product Rating for All Products')"
      ]
     },
     "execution_count": 22,
     "metadata": {},
     "output_type": "execute_result"
    },
    {
     "data": {
      "image/png": "[encoded data removed]",
      "text/plain": [
       "<Figure size 432x288 with 1 Axes>"
      ]
     },
     "metadata": {},
     "output_type": "display_data"
    }
   ],
   "source": [
    "df_filtered.Product_rating.plot.hist() # Overall rating histogram\n",
    "plt.xlabel('Product Rating')\n",
    "plt.title('Histogram of Product Rating for All Products')"
   ]
  },
  {
   "cell_type": "markdown",
   "metadata": {},
   "source": [
    "### Histogram of Product Rating for SkinCare Products only"
   ]
  },
  {
   "cell_type": "code",
   "execution_count": 23,
   "metadata": {},
   "outputs": [],
   "source": [
    "df_skincare = df_filtered[df_filtered['Top_category']==\"Skin Care\"]"
   ]
  },
  {
   "cell_type": "code",
   "execution_count": 24,
   "metadata": {},
   "outputs": [
    {
     "data": {
      "text/plain": [
       "Text(0.5, 1.0, 'Histogram of Product Rating for Skincare Products')"
      ]
     },
     "execution_count": 24,
     "metadata": {},
     "output_type": "execute_result"
    },
    {
     "data": {
      "image/png": "[encoded data removed]",
      "text/plain": [
       "<Figure size 432x288 with 1 Axes>"
      ]
     },
     "metadata": {},
     "output_type": "display_data"
    }
   ],
   "source": [
    "df_skincare.Product_rating.plot.hist(color = 'turquoise')\n",
    "plt.xlabel('Skincare Product Rating')\n",
    "plt.title('Histogram of Product Rating for Skincare Products')"
   ]
  },
  {
   "cell_type": "markdown",
   "metadata": {},
   "source": [
    "### Histogram of Product Rating for Makeup Products only"
   ]
  },
  {
   "cell_type": "code",
   "execution_count": 25,
   "metadata": {},
   "outputs": [],
   "source": [
    "df_makeup = df_filtered[df_filtered['Top_category']==\"Makeup\"]"
   ]
  },
  {
   "cell_type": "code",
   "execution_count": 26,
   "metadata": {},
   "outputs": [
    {
     "data": {
      "text/plain": [
       "Text(0.5, 1.0, 'Histogram of Product Rating for Makeup Products')"
      ]
     },
     "execution_count": 26,
     "metadata": {},
     "output_type": "execute_result"
    },
    {
     "data": {
      "image/png": "[encoded data removed]",
      "text/plain": [
       "<Figure size 432x288 with 1 Axes>"
      ]
     },
     "metadata": {},
     "output_type": "display_data"
    }
   ],
   "source": [
    "df_makeup.Product_rating.plot.hist(color = 'salmon')\n",
    "plt.xlabel('Makeup Product Rating')\n",
    "plt.title('Histogram of Product Rating for Makeup Products')"
   ]
  },
  {
   "cell_type": "markdown",
   "metadata": {},
   "source": [
    "### Two Sample t-test on rating from two top categories: skincare and makeup\n",
    "Check if the rating has the same mean from skin care and makeup "
   ]
  },
  {
   "cell_type": "code",
   "execution_count": 27,
   "metadata": {},
   "outputs": [
    {
     "data": {
      "text/plain": [
       "DescribeResult(nobs=2691, minmax=(1.6, 5.0), mean=4.266146413972502, variance=0.20667135253267468, skewness=-1.719183043020058, kurtosis=4.822912698097661)"
      ]
     },
     "execution_count": 27,
     "metadata": {},
     "output_type": "execute_result"
    }
   ],
   "source": [
    "skincare_rating = np.array(df_skincare['Product_rating'])\n",
    "stats.describe(skincare_rating)"
   ]
  },
  {
   "cell_type": "code",
   "execution_count": 28,
   "metadata": {},
   "outputs": [
    {
     "data": {
      "text/plain": [
       "DescribeResult(nobs=3619, minmax=(1.3, 5.0), mean=4.162365294280187, variance=0.23728970510806016, skewness=-1.2475082108182378, kurtosis=2.2009431006337152)"
      ]
     },
     "execution_count": 28,
     "metadata": {},
     "output_type": "execute_result"
    }
   ],
   "source": [
    "makeup_rating = np.array(df_makeup.Product_rating)\n",
    "stats.describe(makeup_rating)"
   ]
  },
  {
   "cell_type": "code",
   "execution_count": 29,
   "metadata": {},
   "outputs": [
    {
     "data": {
      "text/plain": [
       "Ttest_indResult(statistic=8.610042712319085, pvalue=9.118010066448922e-18)"
      ]
     },
     "execution_count": 29,
     "metadata": {},
     "output_type": "execute_result"
    }
   ],
   "source": [
    "stats.ttest_ind(skincare_rating, makeup_rating)"
   ]
  },
  {
   "cell_type": "markdown",
   "metadata": {},
   "source": [
    "The p-value is extremely small. This indicates that the ratings for skincare and makeup products are statistically different. Therefore, the following analysis will look at each category separately. "
   ]
  },
  {
   "cell_type": "markdown",
   "metadata": {},
   "source": [
    "### Boxplot of Product Rating for Skin Care Products Only"
   ]
  },
  {
   "cell_type": "code",
   "execution_count": 30,
   "metadata": {},
   "outputs": [],
   "source": [
    "# To rearrang the order of category by product rating median \n",
    "def df_index_by_median(df,by,column):\n",
    "    df2 = pd.DataFrame({col:vals[column] for col, vals in df.groupby(by)})\n",
    "    meds = df2.median().sort_values(ascending = False)\n",
    "    return list(meds.index)"
   ]
  },
  {
   "cell_type": "code",
   "execution_count": 31,
   "metadata": {},
   "outputs": [
    {
     "data": {
      "text/plain": [
       "Text(0.5, 1.0, 'Comparison on Product Rating for Skincare Category')"
      ]
     },
     "execution_count": 31,
     "metadata": {},
     "output_type": "execute_result"
    },
    {
     "data": {
      "image/png": "[encoded data removed]",
      "text/plain": [
       "<Figure size 432x288 with 1 Axes>"
      ]
     },
     "metadata": {},
     "output_type": "display_data"
    }
   ],
   "source": [
    "sns.boxplot(x='Product_category', y='Product_rating', data= df_skincare, order = df_index_by_median(df_skincare, by = \"Product_category\", column=\"Product_rating\"))\n",
    "plt.xlabel('Skincare Product Category')\n",
    "plt.ylabel('Product Rating')\n",
    "plt.xticks(rotation=90)\n",
    "plt.title('Comparison on Product Rating for Skincare Category')"
   ]
  },
  {
   "cell_type": "markdown",
   "metadata": {},
   "source": [
    "### Boxplot of Product Rating for Makeup Products Only"
   ]
  },
  {
   "cell_type": "code",
   "execution_count": 32,
   "metadata": {},
   "outputs": [
    {
     "data": {
      "text/plain": [
       "Text(0.5, 1.0, 'Comparison on Product Rating for Makeup Category')"
      ]
     },
     "execution_count": 32,
     "metadata": {},
     "output_type": "execute_result"
    },
    {
     "data": {
      "image/png": "[encoded data removed]",
      "text/plain": [
       "<Figure size 432x288 with 1 Axes>"
      ]
     },
     "metadata": {},
     "output_type": "display_data"
    }
   ],
   "source": [
    "sns.boxplot(x='Product_category', y='Product_rating', data= df_makeup, order = df_index_by_median(df_makeup, by = \"Product_category\", column=\"Product_rating\"))\n",
    "plt.xlabel('Makeup Product Category')\n",
    "plt.ylabel('Product Rating')\n",
    "plt.xticks(rotation=90)\n",
    "plt.title('Comparison on Product Rating for Makeup Category')"
   ]
  },
  {
   "cell_type": "markdown",
   "metadata": {},
   "source": [
    "### Average Rating and Price for Skincare Products"
   ]
  },
  {
   "cell_type": "code",
   "execution_count": 33,
   "metadata": {},
   "outputs": [],
   "source": [
    "df_skincare_rating = pd.DataFrame(df_skincare.groupby('Product_category').agg({'Product_rating':'mean'})).sort_values(by = \"Product_rating\",ascending = False)\n",
    "lis = list(df_skincare_rating.index)"
   ]
  },
  {
   "cell_type": "code",
   "execution_count": 34,
   "metadata": {},
   "outputs": [],
   "source": [
    "df_skincare_price = pd.DataFrame(df_skincare.groupby('Product_category').agg({'Product_price':'mean'})).loc[lis]"
   ]
  },
  {
   "cell_type": "code",
   "execution_count": 35,
   "metadata": {},
   "outputs": [
    {
     "data": {
      "image/png": "[encoded data removed]",
      "text/plain": [
       "<Figure size 432x288 with 2 Axes>"
      ]
     },
     "metadata": {},
     "output_type": "display_data"
    }
   ],
   "source": [
    "### Create a chart that has two y axis using plt.subplots()\n",
    "fig, ax1 = plt.subplots()\n",
    "\n",
    "\n",
    "ax1.set_xlabel('Product Category')\n",
    "ax1.set_xticklabels(lis, rotation=90)\n",
    "ax1.set_ylabel('Product Rating', color='turquoise')\n",
    "ax1.bar(lis,df_skincare_rating['Product_rating'],color='turquoise')\n",
    "ax1.tick_params(axis='y', labelcolor='turquoise')\n",
    "ax1.set_ylim([3, 5])\n",
    "ax1.set_title('Avg Rating & Price for Skincare Product Category')\n",
    "\n",
    "ax2 = ax1.twinx()  # instantiate a second axes that shares the same x-axis\n",
    "\n",
    "\n",
    "ax2.set_ylabel('Product Price', color='b')  # we already handled the x-label with ax1\n",
    "ax2.scatter(lis,df_skincare_price['Product_price'],color='b')\n",
    "ax2.tick_params(axis='y', labelcolor='b')\n",
    "\n",
    "\n",
    "# fig.tight_layout()  # otherwise the right y-label is slightly clipped\n",
    "plt.xticks(rotation=90)\n",
    "plt.show()\n"
   ]
  },
  {
   "cell_type": "markdown",
   "metadata": {},
   "source": [
    "Avg Rating for Skincare Products"
   ]
  },
  {
   "cell_type": "code",
   "execution_count": 36,
   "metadata": {},
   "outputs": [
    {
     "data": {
      "text/plain": [
       "Text(0.5, 1.0, 'Average Rating for Skincare Product Category')"
      ]
     },
     "execution_count": 36,
     "metadata": {},
     "output_type": "execute_result"
    },
    {
     "data": {
      "image/png": "[encoded data removed]",
      "text/plain": [
       "<Figure size 432x288 with 1 Axes>"
      ]
     },
     "metadata": {},
     "output_type": "display_data"
    }
   ],
   "source": [
    "df_skincare_agg = df_skincare.groupby('Product_category').agg({'Product_rating':'mean'})\n",
    "df_skincare_agg.sort_values(by = 'Product_rating', ascending = False).plot.bar(color = 'turquoise')\n",
    "plt.xlabel('Skincare Product Category')\n",
    "plt.ylabel('Average Rating')\n",
    "plt.ylim(3, 5)  # to set the y axis limit \n",
    "plt.title('Average Rating for Skincare Product Category')"
   ]
  },
  {
   "cell_type": "markdown",
   "metadata": {},
   "source": [
    "Avg Price for Skincare Products"
   ]
  },
  {
   "cell_type": "code",
   "execution_count": 37,
   "metadata": {},
   "outputs": [
    {
     "data": {
      "text/plain": [
       "Text(0.5, 1.0, 'Average Price for Skincare Product Category')"
      ]
     },
     "execution_count": 37,
     "metadata": {},
     "output_type": "execute_result"
    },
    {
     "data": {
      "image/png": "[encoded data removed]",
      "text/plain": [
       "<Figure size 432x288 with 1 Axes>"
      ]
     },
     "metadata": {},
     "output_type": "display_data"
    }
   ],
   "source": [
    "df_skincare_price = df_skincare.groupby('Product_category').agg({'Product_price':'mean'}).sort_values(by = \"Product_price\", ascending = False)\n",
    "df_skincare_price.plot.bar(color = 'turquoise')\n",
    "plt.xlabel('Skincare Product Category')\n",
    "plt.ylabel('Average Price')\n",
    "plt.title('Average Price for Skincare Product Category')"
   ]
  },
  {
   "cell_type": "markdown",
   "metadata": {},
   "source": [
    "### Correlation between rating, total reviews and price for skincare  "
   ]
  },
  {
   "cell_type": "code",
   "execution_count": 38,
   "metadata": {},
   "outputs": [
    {
     "data": {
      "text/html": [
       "<div>\n",
       "<style scoped>\n",
       "    .dataframe tbody tr th:only-of-type {\n",
       "        vertical-align: middle;\n",
       "    }\n",
       "\n",
       "    .dataframe tbody tr th {\n",
       "        vertical-align: top;\n",
       "    }\n",
       "\n",
       "    .dataframe thead th {\n",
       "        text-align: right;\n",
       "    }\n",
       "</style>\n",
       "<table border=\"1\" class=\"dataframe\">\n",
       "  <thead>\n",
       "    <tr style=\"text-align: right;\">\n",
       "      <th></th>\n",
       "      <th>Product_rating</th>\n",
       "      <th>Tot_reviews</th>\n",
       "      <th>Product_price</th>\n",
       "    </tr>\n",
       "  </thead>\n",
       "  <tbody>\n",
       "    <tr>\n",
       "      <td>Product_rating</td>\n",
       "      <td>1.000000</td>\n",
       "      <td>0.031123</td>\n",
       "      <td>0.091568</td>\n",
       "    </tr>\n",
       "    <tr>\n",
       "      <td>Tot_reviews</td>\n",
       "      <td>0.031123</td>\n",
       "      <td>1.000000</td>\n",
       "      <td>0.017447</td>\n",
       "    </tr>\n",
       "    <tr>\n",
       "      <td>Product_price</td>\n",
       "      <td>0.091568</td>\n",
       "      <td>0.017447</td>\n",
       "      <td>1.000000</td>\n",
       "    </tr>\n",
       "  </tbody>\n",
       "</table>\n",
       "</div>"
      ],
      "text/plain": [
       "                Product_rating  Tot_reviews  Product_price\n",
       "Product_rating        1.000000     0.031123       0.091568\n",
       "Tot_reviews           0.031123     1.000000       0.017447\n",
       "Product_price         0.091568     0.017447       1.000000"
      ]
     },
     "execution_count": 38,
     "metadata": {},
     "output_type": "execute_result"
    }
   ],
   "source": [
    "df1 =df_skincare.groupby(['Product_category','Product_brand']).agg({'Product_rating':'mean','Tot_reviews': 'sum','Product_price':'mean'}).reset_index()\n",
    "df1.corr(method='pearson')\n",
    "### suggests a poor correlation between rating, total reviews and price"
   ]
  },
  {
   "cell_type": "markdown",
   "metadata": {},
   "source": [
    "### Average Rating and Price for Makeup Products"
   ]
  },
  {
   "cell_type": "markdown",
   "metadata": {},
   "source": [
    "Avg Rating for Makeup Products"
   ]
  },
  {
   "cell_type": "code",
   "execution_count": 39,
   "metadata": {},
   "outputs": [],
   "source": [
    "df_makeup_rating = pd.DataFrame(df_makeup.groupby('Product_category').agg({'Product_rating':'mean'})).sort_values(by = \"Product_rating\",ascending = False)\n",
    "lis = list(df_makeup_rating.index)"
   ]
  },
  {
   "cell_type": "code",
   "execution_count": 40,
   "metadata": {},
   "outputs": [],
   "source": [
    "df_makeup_price = pd.DataFrame(df_makeup.groupby('Product_category').agg({'Product_price':'mean'})).loc[lis]"
   ]
  },
  {
   "cell_type": "code",
   "execution_count": 41,
   "metadata": {},
   "outputs": [
    {
     "data": {
      "image/png": "[encoded data removed]",
      "text/plain": [
       "<Figure size 432x288 with 2 Axes>"
      ]
     },
     "metadata": {},
     "output_type": "display_data"
    }
   ],
   "source": [
    "### Create a chart that has two y axis using plt.subplots()\n",
    "fig, ax1 = plt.subplots()\n",
    "\n",
    "ax1.set_xlabel('Product Category')\n",
    "ax1.set_xticklabels(lis, rotation=90)\n",
    "ax1.set_ylabel('Product Rating', color='salmon')\n",
    "ax1.bar(lis,df_makeup_rating['Product_rating'],color='salmon')\n",
    "ax1.tick_params(axis='y', labelcolor='salmon')\n",
    "ax1.set_ylim([3, 5])\n",
    "ax1.set_title('Avg Rating & Price for Makeup Product Category')\n",
    "\n",
    "ax2 = ax1.twinx()  # instantiate a second axes that shares the same x-axis\n",
    "\n",
    "\n",
    "ax2.set_ylabel('Product Price', color='b')  # we already handled the x-label with ax1\n",
    "ax2.scatter(lis,df_makeup_price['Product_price'],color='b')\n",
    "ax2.tick_params(axis='y', labelcolor='b')\n",
    "\n",
    "\n",
    "# fig.tight_layout()  # otherwise the right y-label is slightly clipped\n",
    "plt.xticks(rotation=90)\n",
    "plt.show()"
   ]
  },
  {
   "cell_type": "code",
   "execution_count": 42,
   "metadata": {},
   "outputs": [
    {
     "data": {
      "text/plain": [
       "Text(0.5, 1.0, 'Average Rating for Makeup Product Category')"
      ]
     },
     "execution_count": 42,
     "metadata": {},
     "output_type": "execute_result"
    },
    {
     "data": {
      "image/png": "[encoded data removed]",
      "text/plain": [
       "<Figure size 432x288 with 1 Axes>"
      ]
     },
     "metadata": {},
     "output_type": "display_data"
    }
   ],
   "source": [
    "df_makeup_agg = df_makeup.groupby('Product_category').agg({'Product_rating':'mean'})\n",
    "df_makeup_agg.sort_values(by = 'Product_rating', ascending = False).plot.bar(color = 'salmon')\n",
    "plt.xlabel('Makeup Product Category')\n",
    "plt.ylabel('Average Rating')\n",
    "#plt.figure(figsize=(12,6))\n",
    "plt.ylim(3, 5)  # to set the y axis limit \n",
    "plt.title('Average Rating for Makeup Product Category')"
   ]
  },
  {
   "cell_type": "markdown",
   "metadata": {},
   "source": [
    "Avg Price for Makeup Products"
   ]
  },
  {
   "cell_type": "code",
   "execution_count": 43,
   "metadata": {},
   "outputs": [
    {
     "data": {
      "text/plain": [
       "Text(0.5, 1.0, 'Average Price for Makeup Product Category')"
      ]
     },
     "execution_count": 43,
     "metadata": {},
     "output_type": "execute_result"
    },
    {
     "data": {
      "image/png": "[encoded data removed]",
      "text/plain": [
       "<Figure size 432x288 with 1 Axes>"
      ]
     },
     "metadata": {},
     "output_type": "display_data"
    }
   ],
   "source": [
    "df_makeup_price = df_makeup.groupby('Product_category').agg({'Product_price':'mean'}).sort_values(by = \"Product_price\", ascending = False)\n",
    "df_makeup_price.plot.bar(color = 'salmon')\n",
    "plt.xlabel('Makeup Product Category')\n",
    "plt.ylabel('Average Price')\n",
    "plt.title('Average Price for Makeup Product Category')"
   ]
  },
  {
   "cell_type": "markdown",
   "metadata": {},
   "source": [
    "### Correlation between rating, total reviews and price for makeup"
   ]
  },
  {
   "cell_type": "code",
   "execution_count": 44,
   "metadata": {},
   "outputs": [
    {
     "data": {
      "text/html": [
       "<div>\n",
       "<style scoped>\n",
       "    .dataframe tbody tr th:only-of-type {\n",
       "        vertical-align: middle;\n",
       "    }\n",
       "\n",
       "    .dataframe tbody tr th {\n",
       "        vertical-align: top;\n",
       "    }\n",
       "\n",
       "    .dataframe thead th {\n",
       "        text-align: right;\n",
       "    }\n",
       "</style>\n",
       "<table border=\"1\" class=\"dataframe\">\n",
       "  <thead>\n",
       "    <tr style=\"text-align: right;\">\n",
       "      <th></th>\n",
       "      <th>Product_rating</th>\n",
       "      <th>Tot_reviews</th>\n",
       "      <th>Product_price</th>\n",
       "    </tr>\n",
       "  </thead>\n",
       "  <tbody>\n",
       "    <tr>\n",
       "      <td>Product_rating</td>\n",
       "      <td>1.000000</td>\n",
       "      <td>0.003951</td>\n",
       "      <td>0.165012</td>\n",
       "    </tr>\n",
       "    <tr>\n",
       "      <td>Tot_reviews</td>\n",
       "      <td>0.003951</td>\n",
       "      <td>1.000000</td>\n",
       "      <td>-0.054793</td>\n",
       "    </tr>\n",
       "    <tr>\n",
       "      <td>Product_price</td>\n",
       "      <td>0.165012</td>\n",
       "      <td>-0.054793</td>\n",
       "      <td>1.000000</td>\n",
       "    </tr>\n",
       "  </tbody>\n",
       "</table>\n",
       "</div>"
      ],
      "text/plain": [
       "                Product_rating  Tot_reviews  Product_price\n",
       "Product_rating        1.000000     0.003951       0.165012\n",
       "Tot_reviews           0.003951     1.000000      -0.054793\n",
       "Product_price         0.165012    -0.054793       1.000000"
      ]
     },
     "execution_count": 44,
     "metadata": {},
     "output_type": "execute_result"
    }
   ],
   "source": [
    "df2 =df_makeup.groupby(['Product_category','Product_brand']).agg({'Product_rating':'mean','Tot_reviews': 'sum','Product_price':'mean'}).reset_index()\n",
    "df2.corr(method='pearson')\n",
    "### suggests a poor correlation between rating, total reviews and price"
   ]
  },
  {
   "cell_type": "markdown",
   "metadata": {},
   "source": [
    "### Closer look at ULTA Skincare Collection"
   ]
  },
  {
   "cell_type": "code",
   "execution_count": 45,
   "metadata": {},
   "outputs": [
    {
     "data": {
      "text/plain": [
       "Text(0.5, 1.0, 'Histogram of ULTA Skincare Collection Rating')"
      ]
     },
     "execution_count": 45,
     "metadata": {},
     "output_type": "execute_result"
    },
    {
     "data": {
      "image/png": "[encoded data removed]",
      "text/plain": [
       "<Figure size 432x288 with 1 Axes>"
      ]
     },
     "metadata": {},
     "output_type": "display_data"
    }
   ],
   "source": [
    "df_ULTA_skincare = df_skincare[df_skincare.Product_category == \"ULTA Collection\"]\n",
    "#sns.distplot(df_ULTA_skincare.Product_rating,color = 'turquoise')\n",
    "df_ULTA_skincare.Product_rating.plot.hist(color='turquoise')\n",
    "plt.xlabel('Product Rating')\n",
    "plt.title('Histogram of ULTA Skincare Collection Rating')"
   ]
  },
  {
   "cell_type": "code",
   "execution_count": 46,
   "metadata": {},
   "outputs": [
    {
     "data": {
      "text/html": [
       "<div>\n",
       "<style scoped>\n",
       "    .dataframe tbody tr th:only-of-type {\n",
       "        vertical-align: middle;\n",
       "    }\n",
       "\n",
       "    .dataframe tbody tr th {\n",
       "        vertical-align: top;\n",
       "    }\n",
       "\n",
       "    .dataframe thead th {\n",
       "        text-align: right;\n",
       "    }\n",
       "</style>\n",
       "<table border=\"1\" class=\"dataframe\">\n",
       "  <thead>\n",
       "    <tr style=\"text-align: right;\">\n",
       "      <th></th>\n",
       "      <th>Top_category</th>\n",
       "      <th>Product_category</th>\n",
       "      <th>Product_brand</th>\n",
       "      <th>Product_name</th>\n",
       "      <th>Product_rating</th>\n",
       "      <th>Tot_reviews</th>\n",
       "      <th>Product_price</th>\n",
       "      <th>Product_size</th>\n",
       "      <th>Product_details</th>\n",
       "    </tr>\n",
       "  </thead>\n",
       "  <tbody>\n",
       "    <tr>\n",
       "      <td>241</td>\n",
       "      <td>Skin Care</td>\n",
       "      <td>ULTA Collection</td>\n",
       "      <td>ULTA</td>\n",
       "      <td>Double-Sided Sunless Tan Applicator Mitt</td>\n",
       "      <td>4.5</td>\n",
       "      <td>107.0</td>\n",
       "      <td>9.99</td>\n",
       "      <td>Item 2295771</td>\n",
       "      <td>Ulta's Double-Sided Sunless Tan Applicator Mit...</td>\n",
       "    </tr>\n",
       "    <tr>\n",
       "      <td>238</td>\n",
       "      <td>Skin Care</td>\n",
       "      <td>ULTA Collection</td>\n",
       "      <td>ULTA</td>\n",
       "      <td>Hydrating Coconut Mask</td>\n",
       "      <td>4.5</td>\n",
       "      <td>31.0</td>\n",
       "      <td>3.00</td>\n",
       "      <td>Size 0.88 oz</td>\n",
       "      <td>Ulta's Hydrating Coconut Mask for dry, dehydra...</td>\n",
       "    </tr>\n",
       "    <tr>\n",
       "      <td>251</td>\n",
       "      <td>Skin Care</td>\n",
       "      <td>ULTA Collection</td>\n",
       "      <td>ULTA</td>\n",
       "      <td>Waterfull Gel - Cream Moisturizer</td>\n",
       "      <td>4.5</td>\n",
       "      <td>157.0</td>\n",
       "      <td>19.50</td>\n",
       "      <td>Size 1.7 oz</td>\n",
       "      <td>Ulta's oil - free Waterfull Gel - Cream Moistu...</td>\n",
       "    </tr>\n",
       "    <tr>\n",
       "      <td>240</td>\n",
       "      <td>Skin Care</td>\n",
       "      <td>ULTA Collection</td>\n",
       "      <td>ULTA</td>\n",
       "      <td>Complexion Rollerball</td>\n",
       "      <td>4.5</td>\n",
       "      <td>42.0</td>\n",
       "      <td>10.00</td>\n",
       "      <td>Size 0.33 oz</td>\n",
       "      <td>Ulta's Complexion Rollerball with tea tree oil...</td>\n",
       "    </tr>\n",
       "    <tr>\n",
       "      <td>255</td>\n",
       "      <td>Skin Care</td>\n",
       "      <td>ULTA Collection</td>\n",
       "      <td>ULTA</td>\n",
       "      <td>Watermelon Sleeping Mask</td>\n",
       "      <td>4.4</td>\n",
       "      <td>83.0</td>\n",
       "      <td>16.00</td>\n",
       "      <td>Size 2 oz</td>\n",
       "      <td>Wake up to glowing, radiant skin with Ulta Bea...</td>\n",
       "    </tr>\n",
       "  </tbody>\n",
       "</table>\n",
       "</div>"
      ],
      "text/plain": [
       "    Top_category Product_category Product_brand  \\\n",
       "241    Skin Care  ULTA Collection          ULTA   \n",
       "238    Skin Care  ULTA Collection          ULTA   \n",
       "251    Skin Care  ULTA Collection          ULTA   \n",
       "240    Skin Care  ULTA Collection          ULTA   \n",
       "255    Skin Care  ULTA Collection          ULTA   \n",
       "\n",
       "                                 Product_name  Product_rating  Tot_reviews  \\\n",
       "241  Double-Sided Sunless Tan Applicator Mitt             4.5        107.0   \n",
       "238                    Hydrating Coconut Mask             4.5         31.0   \n",
       "251         Waterfull Gel - Cream Moisturizer             4.5        157.0   \n",
       "240                     Complexion Rollerball             4.5         42.0   \n",
       "255                  Watermelon Sleeping Mask             4.4         83.0   \n",
       "\n",
       "     Product_price  Product_size  \\\n",
       "241           9.99  Item 2295771   \n",
       "238           3.00  Size 0.88 oz   \n",
       "251          19.50   Size 1.7 oz   \n",
       "240          10.00  Size 0.33 oz   \n",
       "255          16.00     Size 2 oz   \n",
       "\n",
       "                                       Product_details  \n",
       "241  Ulta's Double-Sided Sunless Tan Applicator Mit...  \n",
       "238  Ulta's Hydrating Coconut Mask for dry, dehydra...  \n",
       "251  Ulta's oil - free Waterfull Gel - Cream Moistu...  \n",
       "240  Ulta's Complexion Rollerball with tea tree oil...  \n",
       "255  Wake up to glowing, radiant skin with Ulta Bea...  "
      ]
     },
     "execution_count": 46,
     "metadata": {},
     "output_type": "execute_result"
    }
   ],
   "source": [
    "# ULTA Skincare Collection 5 Highest Rating Product\n",
    "df_skincare[df_skincare.Product_category == \"ULTA Collection\"].sort_values(by='Product_rating',ascending=False).head(5)"
   ]
  },
  {
   "cell_type": "code",
   "execution_count": 47,
   "metadata": {},
   "outputs": [
    {
     "data": {
      "text/html": [
       "<div>\n",
       "<style scoped>\n",
       "    .dataframe tbody tr th:only-of-type {\n",
       "        vertical-align: middle;\n",
       "    }\n",
       "\n",
       "    .dataframe tbody tr th {\n",
       "        vertical-align: top;\n",
       "    }\n",
       "\n",
       "    .dataframe thead th {\n",
       "        text-align: right;\n",
       "    }\n",
       "</style>\n",
       "<table border=\"1\" class=\"dataframe\">\n",
       "  <thead>\n",
       "    <tr style=\"text-align: right;\">\n",
       "      <th></th>\n",
       "      <th>Top_category</th>\n",
       "      <th>Product_category</th>\n",
       "      <th>Product_brand</th>\n",
       "      <th>Product_name</th>\n",
       "      <th>Product_rating</th>\n",
       "      <th>Tot_reviews</th>\n",
       "      <th>Product_price</th>\n",
       "      <th>Product_size</th>\n",
       "      <th>Product_details</th>\n",
       "    </tr>\n",
       "  </thead>\n",
       "  <tbody>\n",
       "    <tr>\n",
       "      <td>256</td>\n",
       "      <td>Skin Care</td>\n",
       "      <td>ULTA Collection</td>\n",
       "      <td>ULTA</td>\n",
       "      <td>Advanced Cleansing Rotating Facial Cleansing B...</td>\n",
       "      <td>3.0</td>\n",
       "      <td>106.0</td>\n",
       "      <td>25.0</td>\n",
       "      <td>Item 2527728</td>\n",
       "      <td>Ulta's Advanced Cleansing Rotating Facial Clea...</td>\n",
       "    </tr>\n",
       "    <tr>\n",
       "      <td>219</td>\n",
       "      <td>Skin Care</td>\n",
       "      <td>ULTA Collection</td>\n",
       "      <td>ULTA</td>\n",
       "      <td>Buttercream Cupcake Lip Balm</td>\n",
       "      <td>3.0</td>\n",
       "      <td>12.0</td>\n",
       "      <td>8.0</td>\n",
       "      <td>Size 0.8 oz</td>\n",
       "      <td>Keep your lips moisturized all day long with t...</td>\n",
       "    </tr>\n",
       "    <tr>\n",
       "      <td>252</td>\n",
       "      <td>Skin Care</td>\n",
       "      <td>ULTA Collection</td>\n",
       "      <td>ULTA</td>\n",
       "      <td>24K Magic Hydrogel Eye Masks</td>\n",
       "      <td>3.2</td>\n",
       "      <td>28.0</td>\n",
       "      <td>22.0</td>\n",
       "      <td>Size 15 oz</td>\n",
       "      <td>Ulta Beauty's 24K Magic Hydrogel Eye Masks are...</td>\n",
       "    </tr>\n",
       "    <tr>\n",
       "      <td>222</td>\n",
       "      <td>Skin Care</td>\n",
       "      <td>ULTA Collection</td>\n",
       "      <td>ULTA</td>\n",
       "      <td>Blueberries &amp; Yogurt Skin Balancing Superfood ...</td>\n",
       "      <td>3.6</td>\n",
       "      <td>12.0</td>\n",
       "      <td>8.0</td>\n",
       "      <td>Size 1.8 oz</td>\n",
       "      <td>Superfoods are jam-packed with nutrients that ...</td>\n",
       "    </tr>\n",
       "    <tr>\n",
       "      <td>235</td>\n",
       "      <td>Skin Care</td>\n",
       "      <td>ULTA Collection</td>\n",
       "      <td>ULTA</td>\n",
       "      <td>Clarifying Honey Peel Off Mask</td>\n",
       "      <td>3.6</td>\n",
       "      <td>35.0</td>\n",
       "      <td>3.0</td>\n",
       "      <td>Size 0.52 oz</td>\n",
       "      <td>Ulta's Clarifying Honey Peel Off Mask for cong...</td>\n",
       "    </tr>\n",
       "  </tbody>\n",
       "</table>\n",
       "</div>"
      ],
      "text/plain": [
       "    Top_category Product_category Product_brand  \\\n",
       "256    Skin Care  ULTA Collection          ULTA   \n",
       "219    Skin Care  ULTA Collection          ULTA   \n",
       "252    Skin Care  ULTA Collection          ULTA   \n",
       "222    Skin Care  ULTA Collection          ULTA   \n",
       "235    Skin Care  ULTA Collection          ULTA   \n",
       "\n",
       "                                          Product_name  Product_rating  \\\n",
       "256  Advanced Cleansing Rotating Facial Cleansing B...             3.0   \n",
       "219                       Buttercream Cupcake Lip Balm             3.0   \n",
       "252                       24K Magic Hydrogel Eye Masks             3.2   \n",
       "222  Blueberries & Yogurt Skin Balancing Superfood ...             3.6   \n",
       "235                     Clarifying Honey Peel Off Mask             3.6   \n",
       "\n",
       "     Tot_reviews  Product_price  Product_size  \\\n",
       "256        106.0           25.0  Item 2527728   \n",
       "219         12.0            8.0   Size 0.8 oz   \n",
       "252         28.0           22.0    Size 15 oz   \n",
       "222         12.0            8.0   Size 1.8 oz   \n",
       "235         35.0            3.0  Size 0.52 oz   \n",
       "\n",
       "                                       Product_details  \n",
       "256  Ulta's Advanced Cleansing Rotating Facial Clea...  \n",
       "219  Keep your lips moisturized all day long with t...  \n",
       "252  Ulta Beauty's 24K Magic Hydrogel Eye Masks are...  \n",
       "222  Superfoods are jam-packed with nutrients that ...  \n",
       "235  Ulta's Clarifying Honey Peel Off Mask for cong...  "
      ]
     },
     "execution_count": 47,
     "metadata": {},
     "output_type": "execute_result"
    }
   ],
   "source": [
    "# ULTA Skincare Collection 5 Lowest Rating Product\n",
    "df_skincare[df_skincare.Product_category == \"ULTA Collection\"].sort_values(by='Product_rating',ascending=True).head(5)"
   ]
  },
  {
   "cell_type": "markdown",
   "metadata": {},
   "source": [
    "### Closer Look at ULTA Makeup Collection"
   ]
  },
  {
   "cell_type": "code",
   "execution_count": 48,
   "metadata": {},
   "outputs": [
    {
     "data": {
      "text/plain": [
       "Text(0.5, 1.0, 'Histogram of ULTA Makeup Collection Rating')"
      ]
     },
     "execution_count": 48,
     "metadata": {},
     "output_type": "execute_result"
    },
    {
     "data": {
      "image/png": "[encoded data removed]",
      "text/plain": [
       "<Figure size 432x288 with 1 Axes>"
      ]
     },
     "metadata": {},
     "output_type": "display_data"
    }
   ],
   "source": [
    "df_ULTA_makeup = df_makeup[df_makeup.Product_category == \"ULTA Collection\"]\n",
    "#sns.distplot(df_ULTA_makeup.Product_rating,color = 'salmon')\n",
    "df_ULTA_makeup.Product_rating.plot.hist(color='salmon')\n",
    "plt.xlabel('Product Rating')\n",
    "plt.title('Histogram of ULTA Makeup Collection Rating')\n"
   ]
  },
  {
   "cell_type": "code",
   "execution_count": 49,
   "metadata": {},
   "outputs": [
    {
     "data": {
      "text/html": [
       "<div>\n",
       "<style scoped>\n",
       "    .dataframe tbody tr th:only-of-type {\n",
       "        vertical-align: middle;\n",
       "    }\n",
       "\n",
       "    .dataframe tbody tr th {\n",
       "        vertical-align: top;\n",
       "    }\n",
       "\n",
       "    .dataframe thead th {\n",
       "        text-align: right;\n",
       "    }\n",
       "</style>\n",
       "<table border=\"1\" class=\"dataframe\">\n",
       "  <thead>\n",
       "    <tr style=\"text-align: right;\">\n",
       "      <th></th>\n",
       "      <th>Top_category</th>\n",
       "      <th>Product_category</th>\n",
       "      <th>Product_brand</th>\n",
       "      <th>Product_name</th>\n",
       "      <th>Product_rating</th>\n",
       "      <th>Tot_reviews</th>\n",
       "      <th>Product_price</th>\n",
       "      <th>Product_size</th>\n",
       "      <th>Product_details</th>\n",
       "    </tr>\n",
       "  </thead>\n",
       "  <tbody>\n",
       "    <tr>\n",
       "      <td>9164</td>\n",
       "      <td>Makeup</td>\n",
       "      <td>ULTA Collection</td>\n",
       "      <td>ULTA</td>\n",
       "      <td>Frida Kahlo by Ulta Beauty Signature Box</td>\n",
       "      <td>4.8</td>\n",
       "      <td>65.0</td>\n",
       "      <td>30.00</td>\n",
       "      <td>Size 0.52 oz</td>\n",
       "      <td>Frida Kahlo by Ulta Beauty Signature Box is a ...</td>\n",
       "    </tr>\n",
       "    <tr>\n",
       "      <td>4405</td>\n",
       "      <td>Makeup</td>\n",
       "      <td>ULTA Collection</td>\n",
       "      <td>ULTA</td>\n",
       "      <td>Jumbo Cotton Balls</td>\n",
       "      <td>4.7</td>\n",
       "      <td>164.0</td>\n",
       "      <td>1.99</td>\n",
       "      <td>Size 70 ct</td>\n",
       "      <td>Includes 70 Ulta Jumbo Size Cotton Balls. For ...</td>\n",
       "    </tr>\n",
       "    <tr>\n",
       "      <td>4396</td>\n",
       "      <td>Makeup</td>\n",
       "      <td>ULTA Collection</td>\n",
       "      <td>ULTA</td>\n",
       "      <td>Beauty Smarts Eye Makeup Remover Mitts</td>\n",
       "      <td>4.6</td>\n",
       "      <td>76.0</td>\n",
       "      <td>4.97</td>\n",
       "      <td>Size 2 ct oz</td>\n",
       "      <td>Ulta's Eye Makeup Remover Mitts easily remove ...</td>\n",
       "    </tr>\n",
       "    <tr>\n",
       "      <td>9140</td>\n",
       "      <td>Makeup</td>\n",
       "      <td>ULTA Collection</td>\n",
       "      <td>ULTA</td>\n",
       "      <td>Baked Sculpt &amp; Glow 3-in-1 Palette</td>\n",
       "      <td>4.6</td>\n",
       "      <td>53.0</td>\n",
       "      <td>15.00</td>\n",
       "      <td>Size 0.51 oz</td>\n",
       "      <td>Ulta's Baked Sculpt &amp; Glow 3-in-1 Palette feat...</td>\n",
       "    </tr>\n",
       "    <tr>\n",
       "      <td>4400</td>\n",
       "      <td>Makeup</td>\n",
       "      <td>ULTA Collection</td>\n",
       "      <td>ULTA</td>\n",
       "      <td>Crease Brush</td>\n",
       "      <td>4.6</td>\n",
       "      <td>187.0</td>\n",
       "      <td>10.00</td>\n",
       "      <td>Item 2271773</td>\n",
       "      <td>The Ulta Crease Brush is made of feather tippe...</td>\n",
       "    </tr>\n",
       "  </tbody>\n",
       "</table>\n",
       "</div>"
      ],
      "text/plain": [
       "     Top_category Product_category Product_brand  \\\n",
       "9164       Makeup  ULTA Collection          ULTA   \n",
       "4405       Makeup  ULTA Collection          ULTA   \n",
       "4396       Makeup  ULTA Collection          ULTA   \n",
       "9140       Makeup  ULTA Collection          ULTA   \n",
       "4400       Makeup  ULTA Collection          ULTA   \n",
       "\n",
       "                                  Product_name  Product_rating  Tot_reviews  \\\n",
       "9164  Frida Kahlo by Ulta Beauty Signature Box             4.8         65.0   \n",
       "4405                        Jumbo Cotton Balls             4.7        164.0   \n",
       "4396    Beauty Smarts Eye Makeup Remover Mitts             4.6         76.0   \n",
       "9140        Baked Sculpt & Glow 3-in-1 Palette             4.6         53.0   \n",
       "4400                              Crease Brush             4.6        187.0   \n",
       "\n",
       "      Product_price  Product_size  \\\n",
       "9164          30.00  Size 0.52 oz   \n",
       "4405           1.99    Size 70 ct   \n",
       "4396           4.97  Size 2 ct oz   \n",
       "9140          15.00  Size 0.51 oz   \n",
       "4400          10.00  Item 2271773   \n",
       "\n",
       "                                        Product_details  \n",
       "9164  Frida Kahlo by Ulta Beauty Signature Box is a ...  \n",
       "4405  Includes 70 Ulta Jumbo Size Cotton Balls. For ...  \n",
       "4396  Ulta's Eye Makeup Remover Mitts easily remove ...  \n",
       "9140  Ulta's Baked Sculpt & Glow 3-in-1 Palette feat...  \n",
       "4400  The Ulta Crease Brush is made of feather tippe...  "
      ]
     },
     "execution_count": 49,
     "metadata": {},
     "output_type": "execute_result"
    }
   ],
   "source": [
    "# ULTA Makeup Collection 5 Highest Rating Product\n",
    "df_makeup[df_makeup.Product_category == \"ULTA Collection\"].sort_values(by='Product_rating',ascending=False).head(5)"
   ]
  },
  {
   "cell_type": "code",
   "execution_count": 50,
   "metadata": {},
   "outputs": [
    {
     "data": {
      "text/html": [
       "<div>\n",
       "<style scoped>\n",
       "    .dataframe tbody tr th:only-of-type {\n",
       "        vertical-align: middle;\n",
       "    }\n",
       "\n",
       "    .dataframe tbody tr th {\n",
       "        vertical-align: top;\n",
       "    }\n",
       "\n",
       "    .dataframe thead th {\n",
       "        text-align: right;\n",
       "    }\n",
       "</style>\n",
       "<table border=\"1\" class=\"dataframe\">\n",
       "  <thead>\n",
       "    <tr style=\"text-align: right;\">\n",
       "      <th></th>\n",
       "      <th>Top_category</th>\n",
       "      <th>Product_category</th>\n",
       "      <th>Product_brand</th>\n",
       "      <th>Product_name</th>\n",
       "      <th>Product_rating</th>\n",
       "      <th>Tot_reviews</th>\n",
       "      <th>Product_price</th>\n",
       "      <th>Product_size</th>\n",
       "      <th>Product_details</th>\n",
       "    </tr>\n",
       "  </thead>\n",
       "  <tbody>\n",
       "    <tr>\n",
       "      <td>4421</td>\n",
       "      <td>Makeup</td>\n",
       "      <td>ULTA Collection</td>\n",
       "      <td>ULTA</td>\n",
       "      <td>Natural Glow Bronzer</td>\n",
       "      <td>2.1</td>\n",
       "      <td>27.0</td>\n",
       "      <td>10.0</td>\n",
       "      <td>Size 0.25 oz</td>\n",
       "      <td>Ulta's Matte Bronzer is an easy to blend silky...</td>\n",
       "    </tr>\n",
       "    <tr>\n",
       "      <td>4388</td>\n",
       "      <td>Makeup</td>\n",
       "      <td>ULTA Collection</td>\n",
       "      <td>ULTA</td>\n",
       "      <td>Mini Tweezer Duo</td>\n",
       "      <td>2.7</td>\n",
       "      <td>21.0</td>\n",
       "      <td>14.0</td>\n",
       "      <td>Item 2308999</td>\n",
       "      <td>Achieve your ideal arch with the Ulta Mini Twe...</td>\n",
       "    </tr>\n",
       "    <tr>\n",
       "      <td>4386</td>\n",
       "      <td>Makeup</td>\n",
       "      <td>ULTA Collection</td>\n",
       "      <td>ULTA</td>\n",
       "      <td>Precision Slant Tweezer</td>\n",
       "      <td>2.8</td>\n",
       "      <td>25.0</td>\n",
       "      <td>16.0</td>\n",
       "      <td>Item 2308996</td>\n",
       "      <td>Create perfectly contoured brows with this sup...</td>\n",
       "    </tr>\n",
       "    <tr>\n",
       "      <td>4393</td>\n",
       "      <td>Makeup</td>\n",
       "      <td>ULTA Collection</td>\n",
       "      <td>ULTA</td>\n",
       "      <td>Buttercream Cupcake Lip Balm</td>\n",
       "      <td>3.0</td>\n",
       "      <td>12.0</td>\n",
       "      <td>8.0</td>\n",
       "      <td>Size 0.8 oz</td>\n",
       "      <td>Keep your lips moisturized all day long with t...</td>\n",
       "    </tr>\n",
       "    <tr>\n",
       "      <td>4411</td>\n",
       "      <td>Makeup</td>\n",
       "      <td>ULTA Collection</td>\n",
       "      <td>ULTA</td>\n",
       "      <td>Mascara Guard</td>\n",
       "      <td>3.1</td>\n",
       "      <td>46.0</td>\n",
       "      <td>10.0</td>\n",
       "      <td>Item 2309002</td>\n",
       "      <td>The soft touch Ulta Mascara Guard allows you t...</td>\n",
       "    </tr>\n",
       "  </tbody>\n",
       "</table>\n",
       "</div>"
      ],
      "text/plain": [
       "     Top_category Product_category Product_brand  \\\n",
       "4421       Makeup  ULTA Collection          ULTA   \n",
       "4388       Makeup  ULTA Collection          ULTA   \n",
       "4386       Makeup  ULTA Collection          ULTA   \n",
       "4393       Makeup  ULTA Collection          ULTA   \n",
       "4411       Makeup  ULTA Collection          ULTA   \n",
       "\n",
       "                      Product_name  Product_rating  Tot_reviews  \\\n",
       "4421          Natural Glow Bronzer             2.1         27.0   \n",
       "4388              Mini Tweezer Duo             2.7         21.0   \n",
       "4386       Precision Slant Tweezer             2.8         25.0   \n",
       "4393  Buttercream Cupcake Lip Balm             3.0         12.0   \n",
       "4411                 Mascara Guard             3.1         46.0   \n",
       "\n",
       "      Product_price  Product_size  \\\n",
       "4421           10.0  Size 0.25 oz   \n",
       "4388           14.0  Item 2308999   \n",
       "4386           16.0  Item 2308996   \n",
       "4393            8.0   Size 0.8 oz   \n",
       "4411           10.0  Item 2309002   \n",
       "\n",
       "                                        Product_details  \n",
       "4421  Ulta's Matte Bronzer is an easy to blend silky...  \n",
       "4388  Achieve your ideal arch with the Ulta Mini Twe...  \n",
       "4386  Create perfectly contoured brows with this sup...  \n",
       "4393  Keep your lips moisturized all day long with t...  \n",
       "4411  The soft touch Ulta Mascara Guard allows you t...  "
      ]
     },
     "execution_count": 50,
     "metadata": {},
     "output_type": "execute_result"
    }
   ],
   "source": [
    "# ULTA Makeup Collection 5 Lowest Rating Product\n",
    "df_makeup[df_makeup.Product_category == \"ULTA Collection\"].sort_values(by='Product_rating',ascending=True).head(5)"
   ]
  },
  {
   "cell_type": "markdown",
   "metadata": {},
   "source": [
    "### Top 10 Highly Rated Skincare Brands"
   ]
  },
  {
   "cell_type": "code",
   "execution_count": 51,
   "metadata": {},
   "outputs": [
    {
     "data": {
      "text/plain": [
       "Text(0.5, 1.0, 'Top 10 Highest Rating Skincare Brand')"
      ]
     },
     "execution_count": 51,
     "metadata": {},
     "output_type": "execute_result"
    },
    {
     "data": {
      "image/png": "[encoded data removed]",
      "text/plain": [
       "<Figure size 432x288 with 1 Axes>"
      ]
     },
     "metadata": {},
     "output_type": "display_data"
    }
   ],
   "source": [
    "top10_skincare_brands= df_skincare.groupby('Product_brand').agg({'Product_rating':'mean','Tot_reviews':'sum','Product_price':'mean'}).sort_values(by='Product_rating',ascending=False).head(10)\n",
    "top10_skincare_brands['Product_rating'].plot.bar(color = 'turquoise')\n",
    "plt.xlabel('Skincare Product Brand')\n",
    "plt.ylabel('Average Rating')\n",
    "plt.ylim(4.5,5)\n",
    "plt.title('Top 10 Highest Rating Skincare Brand')"
   ]
  },
  {
   "cell_type": "markdown",
   "metadata": {},
   "source": [
    "### Top 10 Most Reviews Skincare Brands\n"
   ]
  },
  {
   "cell_type": "code",
   "execution_count": 52,
   "metadata": {},
   "outputs": [
    {
     "data": {
      "text/plain": [
       "Text(0.5, 1.0, 'Top 10 Most Reviews Skincare Brand')"
      ]
     },
     "execution_count": 52,
     "metadata": {},
     "output_type": "execute_result"
    },
    {
     "data": {
      "image/png": "[encoded data removed]",
      "text/plain": [
       "<Figure size 432x288 with 1 Axes>"
      ]
     },
     "metadata": {},
     "output_type": "display_data"
    }
   ],
   "source": [
    "top10_skincare_brands = df_skincare.groupby('Product_brand').agg({'Product_rating':'mean','Tot_reviews':'sum','Product_price':'mean'}).sort_values(by='Tot_reviews',ascending=False).head(10)\n",
    "top10_skincare_brands['Tot_reviews'].plot.bar(color = 'turquoise')\n",
    "plt.xlabel('Skincare Product Brand')\n",
    "plt.ylabel('Total Reviews')\n",
    "plt.title('Top 10 Most Reviews Skincare Brand')"
   ]
  },
  {
   "cell_type": "code",
   "execution_count": 53,
   "metadata": {},
   "outputs": [
    {
     "data": {
      "text/html": [
       "<div>\n",
       "<style scoped>\n",
       "    .dataframe tbody tr th:only-of-type {\n",
       "        vertical-align: middle;\n",
       "    }\n",
       "\n",
       "    .dataframe tbody tr th {\n",
       "        vertical-align: top;\n",
       "    }\n",
       "\n",
       "    .dataframe thead th {\n",
       "        text-align: right;\n",
       "    }\n",
       "</style>\n",
       "<table border=\"1\" class=\"dataframe\">\n",
       "  <thead>\n",
       "    <tr style=\"text-align: right;\">\n",
       "      <th></th>\n",
       "      <th>Product_rating</th>\n",
       "      <th>Tot_reviews</th>\n",
       "      <th>Product_price</th>\n",
       "    </tr>\n",
       "    <tr>\n",
       "      <th>Product_brand</th>\n",
       "      <th></th>\n",
       "      <th></th>\n",
       "      <th></th>\n",
       "    </tr>\n",
       "  </thead>\n",
       "  <tbody>\n",
       "    <tr>\n",
       "      <td>Clinique</td>\n",
       "      <td>4.415574</td>\n",
       "      <td>48315.0</td>\n",
       "      <td>31.356557</td>\n",
       "    </tr>\n",
       "    <tr>\n",
       "      <td>Dermalogica</td>\n",
       "      <td>4.443590</td>\n",
       "      <td>29108.0</td>\n",
       "      <td>51.698718</td>\n",
       "    </tr>\n",
       "    <tr>\n",
       "      <td>Neutrogena</td>\n",
       "      <td>4.072414</td>\n",
       "      <td>29054.0</td>\n",
       "      <td>13.271149</td>\n",
       "    </tr>\n",
       "    <tr>\n",
       "      <td>Mario Badescu</td>\n",
       "      <td>4.282353</td>\n",
       "      <td>28667.0</td>\n",
       "      <td>18.835294</td>\n",
       "    </tr>\n",
       "    <tr>\n",
       "      <td>It Cosmetics</td>\n",
       "      <td>4.378947</td>\n",
       "      <td>28428.0</td>\n",
       "      <td>35.631579</td>\n",
       "    </tr>\n",
       "    <tr>\n",
       "      <td>Garnier</td>\n",
       "      <td>4.312000</td>\n",
       "      <td>21712.0</td>\n",
       "      <td>10.590000</td>\n",
       "    </tr>\n",
       "    <tr>\n",
       "      <td>Olay</td>\n",
       "      <td>4.431250</td>\n",
       "      <td>17467.0</td>\n",
       "      <td>23.897500</td>\n",
       "    </tr>\n",
       "    <tr>\n",
       "      <td>Origins</td>\n",
       "      <td>4.197872</td>\n",
       "      <td>16435.0</td>\n",
       "      <td>39.255319</td>\n",
       "    </tr>\n",
       "    <tr>\n",
       "      <td>Philosophy</td>\n",
       "      <td>4.321154</td>\n",
       "      <td>13810.0</td>\n",
       "      <td>42.076923</td>\n",
       "    </tr>\n",
       "    <tr>\n",
       "      <td>Lancôme</td>\n",
       "      <td>4.458333</td>\n",
       "      <td>13701.0</td>\n",
       "      <td>54.645833</td>\n",
       "    </tr>\n",
       "  </tbody>\n",
       "</table>\n",
       "</div>"
      ],
      "text/plain": [
       "               Product_rating  Tot_reviews  Product_price\n",
       "Product_brand                                            \n",
       "Clinique             4.415574      48315.0      31.356557\n",
       "Dermalogica          4.443590      29108.0      51.698718\n",
       "Neutrogena           4.072414      29054.0      13.271149\n",
       "Mario Badescu        4.282353      28667.0      18.835294\n",
       "It Cosmetics         4.378947      28428.0      35.631579\n",
       "Garnier              4.312000      21712.0      10.590000\n",
       "Olay                 4.431250      17467.0      23.897500\n",
       "Origins              4.197872      16435.0      39.255319\n",
       "Philosophy           4.321154      13810.0      42.076923\n",
       "Lancôme              4.458333      13701.0      54.645833"
      ]
     },
     "execution_count": 53,
     "metadata": {},
     "output_type": "execute_result"
    }
   ],
   "source": [
    "top10_skincare_brands"
   ]
  },
  {
   "cell_type": "markdown",
   "metadata": {},
   "source": [
    "### Top 10 Highly Rated Makeup Brands\n"
   ]
  },
  {
   "cell_type": "code",
   "execution_count": 54,
   "metadata": {},
   "outputs": [
    {
     "data": {
      "text/plain": [
       "Text(0.5, 1.0, 'Top 10 Highest Rating Makeup Brand')"
      ]
     },
     "execution_count": 54,
     "metadata": {},
     "output_type": "execute_result"
    },
    {
     "data": {
      "image/png": "[encoded data removed]",
      "text/plain": [
       "<Figure size 432x288 with 1 Axes>"
      ]
     },
     "metadata": {},
     "output_type": "display_data"
    }
   ],
   "source": [
    "top10_makeup_brands= df_makeup.groupby('Product_brand').agg({'Product_rating':'mean','Tot_reviews':'sum','Product_price':'mean'}).sort_values(by='Product_rating',ascending=False).head(10)\n",
    "top10_makeup_brands['Product_rating'].plot.bar(color = 'salmon')\n",
    "plt.xlabel('Makeup Product Brand')\n",
    "plt.ylabel('Average Rating')\n",
    "plt.ylim(4.5,5)\n",
    "plt.title('Top 10 Highest Rating Makeup Brand')"
   ]
  },
  {
   "cell_type": "markdown",
   "metadata": {},
   "source": [
    "### Top 10 Most Reviews Makeup Brands"
   ]
  },
  {
   "cell_type": "code",
   "execution_count": 55,
   "metadata": {},
   "outputs": [
    {
     "data": {
      "text/plain": [
       "Text(0.5, 1.0, 'Top 10 Most Reviews Makeup Brand')"
      ]
     },
     "execution_count": 55,
     "metadata": {},
     "output_type": "execute_result"
    },
    {
     "data": {
      "image/png": "[encoded data removed]",
      "text/plain": [
       "<Figure size 432x288 with 1 Axes>"
      ]
     },
     "metadata": {},
     "output_type": "display_data"
    }
   ],
   "source": [
    "top10_makeup_brands = df_makeup.groupby('Product_brand').agg({'Product_rating':'mean','Tot_reviews':'sum','Product_price':'mean'}).sort_values(by='Tot_reviews',ascending=False).head(10)\n",
    "top10_makeup_brands['Tot_reviews'].plot.bar(color = 'salmon')\n",
    "plt.xlabel('Makeup Product Brand')\n",
    "plt.ylabel('Total Reviews')\n",
    "plt.title('Top 10 Most Reviews Makeup Brand')"
   ]
  },
  {
   "cell_type": "code",
   "execution_count": 56,
   "metadata": {},
   "outputs": [
    {
     "data": {
      "text/html": [
       "<div>\n",
       "<style scoped>\n",
       "    .dataframe tbody tr th:only-of-type {\n",
       "        vertical-align: middle;\n",
       "    }\n",
       "\n",
       "    .dataframe tbody tr th {\n",
       "        vertical-align: top;\n",
       "    }\n",
       "\n",
       "    .dataframe thead th {\n",
       "        text-align: right;\n",
       "    }\n",
       "</style>\n",
       "<table border=\"1\" class=\"dataframe\">\n",
       "  <thead>\n",
       "    <tr style=\"text-align: right;\">\n",
       "      <th></th>\n",
       "      <th>Product_rating</th>\n",
       "      <th>Tot_reviews</th>\n",
       "      <th>Product_price</th>\n",
       "    </tr>\n",
       "    <tr>\n",
       "      <th>Product_brand</th>\n",
       "      <th></th>\n",
       "      <th></th>\n",
       "      <th></th>\n",
       "    </tr>\n",
       "  </thead>\n",
       "  <tbody>\n",
       "    <tr>\n",
       "      <td>NYX Professional Makeup</td>\n",
       "      <td>4.039610</td>\n",
       "      <td>108371.0</td>\n",
       "      <td>10.334416</td>\n",
       "    </tr>\n",
       "    <tr>\n",
       "      <td>Benefit Cosmetics</td>\n",
       "      <td>4.285000</td>\n",
       "      <td>77507.0</td>\n",
       "      <td>22.700000</td>\n",
       "    </tr>\n",
       "    <tr>\n",
       "      <td>It Cosmetics</td>\n",
       "      <td>4.290769</td>\n",
       "      <td>64343.0</td>\n",
       "      <td>30.092308</td>\n",
       "    </tr>\n",
       "    <tr>\n",
       "      <td>Maybelline</td>\n",
       "      <td>3.949618</td>\n",
       "      <td>61704.0</td>\n",
       "      <td>9.092977</td>\n",
       "    </tr>\n",
       "    <tr>\n",
       "      <td>bareMinerals</td>\n",
       "      <td>4.337975</td>\n",
       "      <td>61374.0</td>\n",
       "      <td>23.911013</td>\n",
       "    </tr>\n",
       "    <tr>\n",
       "      <td>Tarte</td>\n",
       "      <td>4.163115</td>\n",
       "      <td>59281.0</td>\n",
       "      <td>23.885000</td>\n",
       "    </tr>\n",
       "    <tr>\n",
       "      <td>Urban Decay Cosmetics</td>\n",
       "      <td>4.370270</td>\n",
       "      <td>58405.0</td>\n",
       "      <td>28.783784</td>\n",
       "    </tr>\n",
       "    <tr>\n",
       "      <td>Too Faced</td>\n",
       "      <td>4.116393</td>\n",
       "      <td>54840.0</td>\n",
       "      <td>29.146066</td>\n",
       "    </tr>\n",
       "    <tr>\n",
       "      <td>ULTA</td>\n",
       "      <td>4.068902</td>\n",
       "      <td>52907.0</td>\n",
       "      <td>9.704085</td>\n",
       "    </tr>\n",
       "    <tr>\n",
       "      <td>L'Oréal</td>\n",
       "      <td>3.962264</td>\n",
       "      <td>51109.0</td>\n",
       "      <td>11.381509</td>\n",
       "    </tr>\n",
       "  </tbody>\n",
       "</table>\n",
       "</div>"
      ],
      "text/plain": [
       "                         Product_rating  Tot_reviews  Product_price\n",
       "Product_brand                                                      \n",
       "NYX Professional Makeup        4.039610     108371.0      10.334416\n",
       "Benefit Cosmetics              4.285000      77507.0      22.700000\n",
       "It Cosmetics                   4.290769      64343.0      30.092308\n",
       "Maybelline                     3.949618      61704.0       9.092977\n",
       "bareMinerals                   4.337975      61374.0      23.911013\n",
       "Tarte                          4.163115      59281.0      23.885000\n",
       "Urban Decay Cosmetics          4.370270      58405.0      28.783784\n",
       "Too Faced                      4.116393      54840.0      29.146066\n",
       "ULTA                           4.068902      52907.0       9.704085\n",
       "L'Oréal                        3.962264      51109.0      11.381509"
      ]
     },
     "execution_count": 56,
     "metadata": {},
     "output_type": "execute_result"
    }
   ],
   "source": [
    "top10_makeup_brands"
   ]
  },
  {
   "cell_type": "markdown",
   "metadata": {},
   "source": [
    "### Top 5 Highly Rated Brands By Skincare Category "
   ]
  },
  {
   "cell_type": "code",
   "execution_count": 57,
   "metadata": {},
   "outputs": [
    {
     "data": {
      "text/html": [
       "<div>\n",
       "<style scoped>\n",
       "    .dataframe tbody tr th:only-of-type {\n",
       "        vertical-align: middle;\n",
       "    }\n",
       "\n",
       "    .dataframe tbody tr th {\n",
       "        vertical-align: top;\n",
       "    }\n",
       "\n",
       "    .dataframe thead th {\n",
       "        text-align: right;\n",
       "    }\n",
       "</style>\n",
       "<table border=\"1\" class=\"dataframe\">\n",
       "  <thead>\n",
       "    <tr style=\"text-align: right;\">\n",
       "      <th></th>\n",
       "      <th>Product_category</th>\n",
       "      <th>Product_brand</th>\n",
       "      <th>Product_rating</th>\n",
       "      <th>Tot_reviews</th>\n",
       "      <th>Product_price</th>\n",
       "    </tr>\n",
       "  </thead>\n",
       "  <tbody>\n",
       "    <tr>\n",
       "      <td>0</td>\n",
       "      <td>Cleansers</td>\n",
       "      <td>House 99 by David Beckham</td>\n",
       "      <td>5.000</td>\n",
       "      <td>16.0</td>\n",
       "      <td>20.000000</td>\n",
       "    </tr>\n",
       "    <tr>\n",
       "      <td>1</td>\n",
       "      <td>Cleansers</td>\n",
       "      <td>The Vintage Cosmetic Company</td>\n",
       "      <td>5.000</td>\n",
       "      <td>15.0</td>\n",
       "      <td>9.990000</td>\n",
       "    </tr>\n",
       "    <tr>\n",
       "      <td>2</td>\n",
       "      <td>Cleansers</td>\n",
       "      <td>Duke Cannon Supply Co</td>\n",
       "      <td>4.900</td>\n",
       "      <td>232.0</td>\n",
       "      <td>12.500000</td>\n",
       "    </tr>\n",
       "    <tr>\n",
       "      <td>3</td>\n",
       "      <td>Cleansers</td>\n",
       "      <td>MakeUp Eraser</td>\n",
       "      <td>4.900</td>\n",
       "      <td>69.0</td>\n",
       "      <td>20.000000</td>\n",
       "    </tr>\n",
       "    <tr>\n",
       "      <td>4</td>\n",
       "      <td>Cleansers</td>\n",
       "      <td>YUNI</td>\n",
       "      <td>4.900</td>\n",
       "      <td>182.0</td>\n",
       "      <td>15.000000</td>\n",
       "    </tr>\n",
       "    <tr>\n",
       "      <td>...</td>\n",
       "      <td>...</td>\n",
       "      <td>...</td>\n",
       "      <td>...</td>\n",
       "      <td>...</td>\n",
       "      <td>...</td>\n",
       "    </tr>\n",
       "    <tr>\n",
       "      <td>57</td>\n",
       "      <td>Treatment &amp; Serums</td>\n",
       "      <td>Kitao</td>\n",
       "      <td>4.900</td>\n",
       "      <td>31.0</td>\n",
       "      <td>25.000000</td>\n",
       "    </tr>\n",
       "    <tr>\n",
       "      <td>58</td>\n",
       "      <td>Treatment &amp; Serums</td>\n",
       "      <td>ACURE</td>\n",
       "      <td>4.850</td>\n",
       "      <td>23.0</td>\n",
       "      <td>18.990000</td>\n",
       "    </tr>\n",
       "    <tr>\n",
       "      <td>59</td>\n",
       "      <td>Treatment &amp; Serums</td>\n",
       "      <td>Biobelle</td>\n",
       "      <td>4.825</td>\n",
       "      <td>280.0</td>\n",
       "      <td>4.406667</td>\n",
       "    </tr>\n",
       "    <tr>\n",
       "      <td>60</td>\n",
       "      <td>ULTA Collection</td>\n",
       "      <td>Neutrogena</td>\n",
       "      <td>4.200</td>\n",
       "      <td>479.0</td>\n",
       "      <td>12.490000</td>\n",
       "    </tr>\n",
       "    <tr>\n",
       "      <td>61</td>\n",
       "      <td>ULTA Collection</td>\n",
       "      <td>ULTA</td>\n",
       "      <td>3.950</td>\n",
       "      <td>2225.0</td>\n",
       "      <td>11.081333</td>\n",
       "    </tr>\n",
       "  </tbody>\n",
       "</table>\n",
       "<p>62 rows × 5 columns</p>\n",
       "</div>"
      ],
      "text/plain": [
       "      Product_category                 Product_brand  Product_rating  \\\n",
       "0            Cleansers     House 99 by David Beckham           5.000   \n",
       "1            Cleansers  The Vintage Cosmetic Company           5.000   \n",
       "2            Cleansers         Duke Cannon Supply Co           4.900   \n",
       "3            Cleansers                 MakeUp Eraser           4.900   \n",
       "4            Cleansers                          YUNI           4.900   \n",
       "..                 ...                           ...             ...   \n",
       "57  Treatment & Serums                         Kitao           4.900   \n",
       "58  Treatment & Serums                         ACURE           4.850   \n",
       "59  Treatment & Serums                      Biobelle           4.825   \n",
       "60     ULTA Collection                    Neutrogena           4.200   \n",
       "61     ULTA Collection                          ULTA           3.950   \n",
       "\n",
       "    Tot_reviews  Product_price  \n",
       "0          16.0      20.000000  \n",
       "1          15.0       9.990000  \n",
       "2         232.0      12.500000  \n",
       "3          69.0      20.000000  \n",
       "4         182.0      15.000000  \n",
       "..          ...            ...  \n",
       "57         31.0      25.000000  \n",
       "58         23.0      18.990000  \n",
       "59        280.0       4.406667  \n",
       "60        479.0      12.490000  \n",
       "61       2225.0      11.081333  \n",
       "\n",
       "[62 rows x 5 columns]"
      ]
     },
     "execution_count": 57,
     "metadata": {},
     "output_type": "execute_result"
    }
   ],
   "source": [
    "df_skincare_agg = df_skincare.groupby(['Product_category','Product_brand']).agg({'Product_rating':'mean', 'Tot_reviews': 'sum','Product_price':'mean'})\n",
    "top5_brands_skincare = df_skincare_agg.reset_index().groupby('Product_category').apply(lambda x: x.nlargest(5, 'Product_rating')).reset_index(drop=True)\n",
    "top5_brands_skincare"
   ]
  },
  {
   "cell_type": "code",
   "execution_count": 58,
   "metadata": {},
   "outputs": [
    {
     "data": {
      "text/plain": [
       "Product_brand\n",
       "Duke Cannon Supply Co           2\n",
       "Jack Black                      2\n",
       "Biobelle                        2\n",
       "The Vintage Cosmetic Company    2\n",
       "Thayers                         2\n",
       "COOLA                           2\n",
       "Clarins                         2\n",
       "Neutrogena                      2\n",
       "dtype: int64"
      ]
     },
     "execution_count": 58,
     "metadata": {},
     "output_type": "execute_result"
    }
   ],
   "source": [
    "### All of the brands that are highly rated in more than one category\n",
    "top5_brands_skincare.groupby('Product_brand').size().sort_values(ascending=False).head(8)"
   ]
  },
  {
   "cell_type": "markdown",
   "metadata": {},
   "source": [
    "### Poorly Rated Brands By Skincare Category "
   ]
  },
  {
   "cell_type": "code",
   "execution_count": 59,
   "metadata": {},
   "outputs": [
    {
     "data": {
      "text/html": [
       "<div>\n",
       "<style scoped>\n",
       "    .dataframe tbody tr th:only-of-type {\n",
       "        vertical-align: middle;\n",
       "    }\n",
       "\n",
       "    .dataframe tbody tr th {\n",
       "        vertical-align: top;\n",
       "    }\n",
       "\n",
       "    .dataframe thead th {\n",
       "        text-align: right;\n",
       "    }\n",
       "</style>\n",
       "<table border=\"1\" class=\"dataframe\">\n",
       "  <thead>\n",
       "    <tr style=\"text-align: right;\">\n",
       "      <th></th>\n",
       "      <th>Product_category</th>\n",
       "      <th>Product_brand</th>\n",
       "      <th>Product_rating</th>\n",
       "      <th>Tot_reviews</th>\n",
       "      <th>Product_price</th>\n",
       "    </tr>\n",
       "  </thead>\n",
       "  <tbody>\n",
       "    <tr>\n",
       "      <td>0</td>\n",
       "      <td>Cleansers</td>\n",
       "      <td>Wet n Wild</td>\n",
       "      <td>2.800000</td>\n",
       "      <td>16.0</td>\n",
       "      <td>4.990000</td>\n",
       "    </tr>\n",
       "    <tr>\n",
       "      <td>1</td>\n",
       "      <td>Cleansers</td>\n",
       "      <td>ULTA</td>\n",
       "      <td>3.350000</td>\n",
       "      <td>799.0</td>\n",
       "      <td>8.666667</td>\n",
       "    </tr>\n",
       "    <tr>\n",
       "      <td>2</td>\n",
       "      <td>Cleansers</td>\n",
       "      <td>Tarte</td>\n",
       "      <td>3.525000</td>\n",
       "      <td>107.0</td>\n",
       "      <td>15.000000</td>\n",
       "    </tr>\n",
       "    <tr>\n",
       "      <td>3</td>\n",
       "      <td>Cleansers</td>\n",
       "      <td>Earth Therapeutics</td>\n",
       "      <td>3.600000</td>\n",
       "      <td>219.0</td>\n",
       "      <td>8.000000</td>\n",
       "    </tr>\n",
       "    <tr>\n",
       "      <td>4</td>\n",
       "      <td>Cleansers</td>\n",
       "      <td>VitaminSea.beauty</td>\n",
       "      <td>3.600000</td>\n",
       "      <td>12.0</td>\n",
       "      <td>9.990000</td>\n",
       "    </tr>\n",
       "    <tr>\n",
       "      <td>...</td>\n",
       "      <td>...</td>\n",
       "      <td>...</td>\n",
       "      <td>...</td>\n",
       "      <td>...</td>\n",
       "      <td>...</td>\n",
       "    </tr>\n",
       "    <tr>\n",
       "      <td>57</td>\n",
       "      <td>Treatment &amp; Serums</td>\n",
       "      <td>Yes to</td>\n",
       "      <td>3.235294</td>\n",
       "      <td>2330.0</td>\n",
       "      <td>6.842941</td>\n",
       "    </tr>\n",
       "    <tr>\n",
       "      <td>58</td>\n",
       "      <td>Treatment &amp; Serums</td>\n",
       "      <td>Nia</td>\n",
       "      <td>3.400000</td>\n",
       "      <td>14.0</td>\n",
       "      <td>17.970000</td>\n",
       "    </tr>\n",
       "    <tr>\n",
       "      <td>59</td>\n",
       "      <td>Treatment &amp; Serums</td>\n",
       "      <td>KYLIE SKIN</td>\n",
       "      <td>3.500000</td>\n",
       "      <td>37.0</td>\n",
       "      <td>28.000000</td>\n",
       "    </tr>\n",
       "    <tr>\n",
       "      <td>60</td>\n",
       "      <td>ULTA Collection</td>\n",
       "      <td>ULTA</td>\n",
       "      <td>3.950000</td>\n",
       "      <td>2225.0</td>\n",
       "      <td>11.081333</td>\n",
       "    </tr>\n",
       "    <tr>\n",
       "      <td>61</td>\n",
       "      <td>ULTA Collection</td>\n",
       "      <td>Neutrogena</td>\n",
       "      <td>4.200000</td>\n",
       "      <td>479.0</td>\n",
       "      <td>12.490000</td>\n",
       "    </tr>\n",
       "  </tbody>\n",
       "</table>\n",
       "<p>62 rows × 5 columns</p>\n",
       "</div>"
      ],
      "text/plain": [
       "      Product_category       Product_brand  Product_rating  Tot_reviews  \\\n",
       "0            Cleansers          Wet n Wild        2.800000         16.0   \n",
       "1            Cleansers                ULTA        3.350000        799.0   \n",
       "2            Cleansers               Tarte        3.525000        107.0   \n",
       "3            Cleansers  Earth Therapeutics        3.600000        219.0   \n",
       "4            Cleansers   VitaminSea.beauty        3.600000         12.0   \n",
       "..                 ...                 ...             ...          ...   \n",
       "57  Treatment & Serums              Yes to        3.235294       2330.0   \n",
       "58  Treatment & Serums                 Nia        3.400000         14.0   \n",
       "59  Treatment & Serums          KYLIE SKIN        3.500000         37.0   \n",
       "60     ULTA Collection                ULTA        3.950000       2225.0   \n",
       "61     ULTA Collection          Neutrogena        4.200000        479.0   \n",
       "\n",
       "    Product_price  \n",
       "0        4.990000  \n",
       "1        8.666667  \n",
       "2       15.000000  \n",
       "3        8.000000  \n",
       "4        9.990000  \n",
       "..            ...  \n",
       "57       6.842941  \n",
       "58      17.970000  \n",
       "59      28.000000  \n",
       "60      11.081333  \n",
       "61      12.490000  \n",
       "\n",
       "[62 rows x 5 columns]"
      ]
     },
     "execution_count": 59,
     "metadata": {},
     "output_type": "execute_result"
    }
   ],
   "source": [
    "buttom5_brands_skincare = df_skincare_agg.reset_index().groupby('Product_category').apply(lambda x: x.nsmallest(5, 'Product_rating')).reset_index(drop=True)\n",
    "buttom5_brands_skincare"
   ]
  },
  {
   "cell_type": "code",
   "execution_count": 60,
   "metadata": {},
   "outputs": [
    {
     "data": {
      "text/plain": [
       "Text(0.5, 1.0, 'Poorly Rated Skincare Brands')"
      ]
     },
     "execution_count": 60,
     "metadata": {},
     "output_type": "execute_result"
    },
    {
     "data": {
      "image/png": "[encoded data removed]",
      "text/plain": [
       "<Figure size 432x288 with 1 Axes>"
      ]
     },
     "metadata": {},
     "output_type": "display_data"
    }
   ],
   "source": [
    "### All of the brands that are poorly rated in more than one category\n",
    "buttom5_brands_skincare.groupby('Product_brand').size().sort_values(ascending=False).head(7).plot.bar(color = 'turquoise')\n",
    "plt.xlabel('Product Brand')\n",
    "plt.ylabel('Frequency of Poorly Rated')\n",
    "plt.title('Poorly Rated Skincare Brands')"
   ]
  },
  {
   "cell_type": "markdown",
   "metadata": {},
   "source": [
    "### Top 5 Highly Rated Brands By Makeup Category "
   ]
  },
  {
   "cell_type": "code",
   "execution_count": 61,
   "metadata": {},
   "outputs": [
    {
     "data": {
      "text/html": [
       "<div>\n",
       "<style scoped>\n",
       "    .dataframe tbody tr th:only-of-type {\n",
       "        vertical-align: middle;\n",
       "    }\n",
       "\n",
       "    .dataframe tbody tr th {\n",
       "        vertical-align: top;\n",
       "    }\n",
       "\n",
       "    .dataframe thead th {\n",
       "        text-align: right;\n",
       "    }\n",
       "</style>\n",
       "<table border=\"1\" class=\"dataframe\">\n",
       "  <thead>\n",
       "    <tr style=\"text-align: right;\">\n",
       "      <th></th>\n",
       "      <th>Product_category</th>\n",
       "      <th>Product_brand</th>\n",
       "      <th>Product_rating</th>\n",
       "      <th>Tot_reviews</th>\n",
       "      <th>Product_price</th>\n",
       "    </tr>\n",
       "  </thead>\n",
       "  <tbody>\n",
       "    <tr>\n",
       "      <td>0</td>\n",
       "      <td>Eyes</td>\n",
       "      <td>ICONIC LONDON</td>\n",
       "      <td>4.9</td>\n",
       "      <td>53.0</td>\n",
       "      <td>40.00</td>\n",
       "    </tr>\n",
       "    <tr>\n",
       "      <td>1</td>\n",
       "      <td>Eyes</td>\n",
       "      <td>Black Moon Cosmetics</td>\n",
       "      <td>4.8</td>\n",
       "      <td>18.0</td>\n",
       "      <td>48.00</td>\n",
       "    </tr>\n",
       "    <tr>\n",
       "      <td>2</td>\n",
       "      <td>Eyes</td>\n",
       "      <td>NABLA</td>\n",
       "      <td>4.8</td>\n",
       "      <td>17.0</td>\n",
       "      <td>39.00</td>\n",
       "    </tr>\n",
       "    <tr>\n",
       "      <td>3</td>\n",
       "      <td>Eyes</td>\n",
       "      <td>SUGARPILL</td>\n",
       "      <td>4.7</td>\n",
       "      <td>22.0</td>\n",
       "      <td>28.00</td>\n",
       "    </tr>\n",
       "    <tr>\n",
       "      <td>4</td>\n",
       "      <td>Eyes</td>\n",
       "      <td>PYT Beauty</td>\n",
       "      <td>4.7</td>\n",
       "      <td>30.0</td>\n",
       "      <td>24.00</td>\n",
       "    </tr>\n",
       "    <tr>\n",
       "      <td>5</td>\n",
       "      <td>Face</td>\n",
       "      <td>MakeUp Eraser</td>\n",
       "      <td>4.9</td>\n",
       "      <td>69.0</td>\n",
       "      <td>20.00</td>\n",
       "    </tr>\n",
       "    <tr>\n",
       "      <td>6</td>\n",
       "      <td>Face</td>\n",
       "      <td>LashFood</td>\n",
       "      <td>4.8</td>\n",
       "      <td>16.0</td>\n",
       "      <td>18.00</td>\n",
       "    </tr>\n",
       "    <tr>\n",
       "      <td>7</td>\n",
       "      <td>Face</td>\n",
       "      <td>The Vintage Cosmetic Company</td>\n",
       "      <td>4.8</td>\n",
       "      <td>60.0</td>\n",
       "      <td>9.99</td>\n",
       "    </tr>\n",
       "    <tr>\n",
       "      <td>8</td>\n",
       "      <td>Face</td>\n",
       "      <td>Laura Mercier</td>\n",
       "      <td>4.7</td>\n",
       "      <td>80.0</td>\n",
       "      <td>43.50</td>\n",
       "    </tr>\n",
       "    <tr>\n",
       "      <td>9</td>\n",
       "      <td>Face</td>\n",
       "      <td>Mamonde</td>\n",
       "      <td>4.7</td>\n",
       "      <td>27.0</td>\n",
       "      <td>36.00</td>\n",
       "    </tr>\n",
       "  </tbody>\n",
       "</table>\n",
       "</div>"
      ],
      "text/plain": [
       "  Product_category                 Product_brand  Product_rating  Tot_reviews  \\\n",
       "0             Eyes                 ICONIC LONDON             4.9         53.0   \n",
       "1             Eyes          Black Moon Cosmetics             4.8         18.0   \n",
       "2             Eyes                         NABLA             4.8         17.0   \n",
       "3             Eyes                     SUGARPILL             4.7         22.0   \n",
       "4             Eyes                    PYT Beauty             4.7         30.0   \n",
       "5             Face                 MakeUp Eraser             4.9         69.0   \n",
       "6             Face                      LashFood             4.8         16.0   \n",
       "7             Face  The Vintage Cosmetic Company             4.8         60.0   \n",
       "8             Face                 Laura Mercier             4.7         80.0   \n",
       "9             Face                       Mamonde             4.7         27.0   \n",
       "\n",
       "   Product_price  \n",
       "0          40.00  \n",
       "1          48.00  \n",
       "2          39.00  \n",
       "3          28.00  \n",
       "4          24.00  \n",
       "5          20.00  \n",
       "6          18.00  \n",
       "7           9.99  \n",
       "8          43.50  \n",
       "9          36.00  "
      ]
     },
     "execution_count": 61,
     "metadata": {},
     "output_type": "execute_result"
    }
   ],
   "source": [
    "df_makeup_agg = df_makeup.groupby(['Product_category','Product_brand']).agg({'Product_rating':'mean', 'Tot_reviews': 'sum','Product_price':'mean'})\n",
    "top5_brands_makeup = df_makeup_agg.reset_index().groupby('Product_category').apply(lambda x: x.nlargest(5, 'Product_rating')).reset_index(drop=True)\n",
    "top5_brands_makeup.head(10)"
   ]
  },
  {
   "cell_type": "code",
   "execution_count": 62,
   "metadata": {},
   "outputs": [
    {
     "data": {
      "text/plain": [
       "Product_brand\n",
       "Base 4                   2\n",
       "Urban Decay Cosmetics    2\n",
       "Black Moon Cosmetics     2\n",
       "I Heart Revolution       2\n",
       "Benefit Cosmetics        1\n",
       "dtype: int64"
      ]
     },
     "execution_count": 62,
     "metadata": {},
     "output_type": "execute_result"
    }
   ],
   "source": [
    "top5_brands_makeup.groupby('Product_brand').size().sort_values(ascending=False).head(5)"
   ]
  },
  {
   "cell_type": "markdown",
   "metadata": {},
   "source": [
    "### Poorly Rated Brands By Makeup Category "
   ]
  },
  {
   "cell_type": "code",
   "execution_count": 63,
   "metadata": {},
   "outputs": [
    {
     "data": {
      "text/html": [
       "<div>\n",
       "<style scoped>\n",
       "    .dataframe tbody tr th:only-of-type {\n",
       "        vertical-align: middle;\n",
       "    }\n",
       "\n",
       "    .dataframe tbody tr th {\n",
       "        vertical-align: top;\n",
       "    }\n",
       "\n",
       "    .dataframe thead th {\n",
       "        text-align: right;\n",
       "    }\n",
       "</style>\n",
       "<table border=\"1\" class=\"dataframe\">\n",
       "  <thead>\n",
       "    <tr style=\"text-align: right;\">\n",
       "      <th></th>\n",
       "      <th>Product_category</th>\n",
       "      <th>Product_brand</th>\n",
       "      <th>Product_rating</th>\n",
       "      <th>Tot_reviews</th>\n",
       "      <th>Product_price</th>\n",
       "    </tr>\n",
       "  </thead>\n",
       "  <tbody>\n",
       "    <tr>\n",
       "      <td>0</td>\n",
       "      <td>Eyes</td>\n",
       "      <td>Tweezerman</td>\n",
       "      <td>2.500000</td>\n",
       "      <td>14.0</td>\n",
       "      <td>19.000000</td>\n",
       "    </tr>\n",
       "    <tr>\n",
       "      <td>1</td>\n",
       "      <td>Eyes</td>\n",
       "      <td>Juice Beauty</td>\n",
       "      <td>3.080000</td>\n",
       "      <td>259.0</td>\n",
       "      <td>22.400000</td>\n",
       "    </tr>\n",
       "    <tr>\n",
       "      <td>2</td>\n",
       "      <td>Eyes</td>\n",
       "      <td>Mavala</td>\n",
       "      <td>3.600000</td>\n",
       "      <td>19.0</td>\n",
       "      <td>39.000000</td>\n",
       "    </tr>\n",
       "    <tr>\n",
       "      <td>3</td>\n",
       "      <td>Eyes</td>\n",
       "      <td>KYLIE COSMETICS</td>\n",
       "      <td>3.671429</td>\n",
       "      <td>258.0</td>\n",
       "      <td>46.285714</td>\n",
       "    </tr>\n",
       "    <tr>\n",
       "      <td>4</td>\n",
       "      <td>Eyes</td>\n",
       "      <td>Almay</td>\n",
       "      <td>3.688889</td>\n",
       "      <td>2092.0</td>\n",
       "      <td>8.267778</td>\n",
       "    </tr>\n",
       "    <tr>\n",
       "      <td>5</td>\n",
       "      <td>Face</td>\n",
       "      <td>Too Cool For School</td>\n",
       "      <td>2.900000</td>\n",
       "      <td>19.0</td>\n",
       "      <td>4.970000</td>\n",
       "    </tr>\n",
       "    <tr>\n",
       "      <td>6</td>\n",
       "      <td>Face</td>\n",
       "      <td>CeraVe</td>\n",
       "      <td>3.050000</td>\n",
       "      <td>352.0</td>\n",
       "      <td>11.490000</td>\n",
       "    </tr>\n",
       "    <tr>\n",
       "      <td>7</td>\n",
       "      <td>Face</td>\n",
       "      <td>Wunder2</td>\n",
       "      <td>3.400000</td>\n",
       "      <td>25.0</td>\n",
       "      <td>22.000000</td>\n",
       "    </tr>\n",
       "    <tr>\n",
       "      <td>8</td>\n",
       "      <td>Face</td>\n",
       "      <td>KKW BEAUTY</td>\n",
       "      <td>3.450000</td>\n",
       "      <td>141.0</td>\n",
       "      <td>25.000000</td>\n",
       "    </tr>\n",
       "    <tr>\n",
       "      <td>9</td>\n",
       "      <td>Face</td>\n",
       "      <td>Butter London</td>\n",
       "      <td>3.700000</td>\n",
       "      <td>38.0</td>\n",
       "      <td>27.000000</td>\n",
       "    </tr>\n",
       "  </tbody>\n",
       "</table>\n",
       "</div>"
      ],
      "text/plain": [
       "  Product_category        Product_brand  Product_rating  Tot_reviews  \\\n",
       "0             Eyes           Tweezerman        2.500000         14.0   \n",
       "1             Eyes         Juice Beauty        3.080000        259.0   \n",
       "2             Eyes               Mavala        3.600000         19.0   \n",
       "3             Eyes      KYLIE COSMETICS        3.671429        258.0   \n",
       "4             Eyes                Almay        3.688889       2092.0   \n",
       "5             Face  Too Cool For School        2.900000         19.0   \n",
       "6             Face               CeraVe        3.050000        352.0   \n",
       "7             Face              Wunder2        3.400000         25.0   \n",
       "8             Face           KKW BEAUTY        3.450000        141.0   \n",
       "9             Face        Butter London        3.700000         38.0   \n",
       "\n",
       "   Product_price  \n",
       "0      19.000000  \n",
       "1      22.400000  \n",
       "2      39.000000  \n",
       "3      46.285714  \n",
       "4       8.267778  \n",
       "5       4.970000  \n",
       "6      11.490000  \n",
       "7      22.000000  \n",
       "8      25.000000  \n",
       "9      27.000000  "
      ]
     },
     "execution_count": 63,
     "metadata": {},
     "output_type": "execute_result"
    }
   ],
   "source": [
    "buttom5_brands_makeup = df_makeup_agg.reset_index().groupby('Product_category').apply(lambda x: x.nsmallest(5, 'Product_rating')).reset_index(drop=True)\n",
    "buttom5_brands_makeup.head(10)"
   ]
  },
  {
   "cell_type": "code",
   "execution_count": 64,
   "metadata": {},
   "outputs": [
    {
     "data": {
      "text/plain": [
       "Text(0.5, 1.0, 'Poorly Rated Makeup Brands')"
      ]
     },
     "execution_count": 64,
     "metadata": {},
     "output_type": "execute_result"
    },
    {
     "data": {
      "image/png": "[encoded data removed]",
      "text/plain": [
       "<Figure size 432x288 with 1 Axes>"
      ]
     },
     "metadata": {},
     "output_type": "display_data"
    }
   ],
   "source": [
    "### All of the brands that are poorly rated in more than one category\n",
    "buttom5_brands_makeup.groupby('Product_brand').size().sort_values(ascending=False).head(7).plot.bar(color = 'salmon')\n",
    "plt.xlabel('Product Brand')\n",
    "plt.ylabel('Frequency of Poorly Rated')\n",
    "plt.title('Poorly Rated Makeup Brands')"
   ]
  },
  {
   "cell_type": "markdown",
   "metadata": {},
   "source": [
    "### Brands That Have Both Skincare and Makeup Products"
   ]
  },
  {
   "cell_type": "code",
   "execution_count": 65,
   "metadata": {},
   "outputs": [
    {
     "data": {
      "text/plain": [
       "115"
      ]
     },
     "execution_count": 65,
     "metadata": {},
     "output_type": "execute_result"
    }
   ],
   "source": [
    "set1=set(df_skincare['Product_brand']) \n",
    "set2=set(df_makeup['Product_brand'])\n",
    "shared_brands = list(set1 & set2)\n",
    "df_shared = df_filtered[df_filtered['Product_brand'].apply(lambda x: x in shared_brands)]\n",
    "len(shared_brands)"
   ]
  },
  {
   "cell_type": "code",
   "execution_count": 66,
   "metadata": {},
   "outputs": [],
   "source": [
    "df_shared=pd.DataFrame(df_shared.groupby(['Top_category','Product_brand']).agg({'Product_name':'count','Product_rating':'mean', 'Tot_reviews': 'sum','Product_price':'mean'}).sort_values(by=\"Product_brand\").reset_index())"
   ]
  },
  {
   "cell_type": "code",
   "execution_count": 67,
   "metadata": {},
   "outputs": [
    {
     "data": {
      "text/plain": [
       "(222, 6)"
      ]
     },
     "execution_count": 67,
     "metadata": {},
     "output_type": "execute_result"
    }
   ],
   "source": [
    "# Some products are double listed in skincare and makeup category, \n",
    "nrows=len(df_shared)\n",
    "for i in range(nrows):\n",
    "    if i>=len(df_shared)-1:\n",
    "        break\n",
    "    elif all(df_shared.iloc[i,1:6] == df_shared.iloc[i+1,1:6]):\n",
    "        df_shared.drop(i,inplace = True)\n",
    "        df_shared.drop(i+1, inplace = True)\n",
    "        df_shared.reset_index(drop=True,inplace=True)\n",
    "        i = i-2\n",
    "    else:\n",
    "        continue\n",
    "df_shared.reset_index(drop=True,inplace = True)\n",
    "df_shared.shape"
   ]
  },
  {
   "cell_type": "code",
   "execution_count": 68,
   "metadata": {},
   "outputs": [],
   "source": [
    "### Top 10 shared brands in SkinCare \n",
    "top10_skincare=df_shared[df_shared.Top_category==\"Skin Care\"].sort_values(by=\"Product_rating\",ascending=False).set_index('Product_brand').head(10)\n",
    "set_skincare = set(top10_skincare.index)"
   ]
  },
  {
   "cell_type": "code",
   "execution_count": 69,
   "metadata": {},
   "outputs": [],
   "source": [
    "### Top 10 shared brands in Makeup\n",
    "top10_makeup = df_shared[df_shared.Top_category==\"Makeup\"].sort_values(by=\"Product_rating\",ascending=False).set_index('Product_brand').head(10)\n",
    "set_makeup = set(top10_makeup.index)"
   ]
  },
  {
   "cell_type": "code",
   "execution_count": 70,
   "metadata": {},
   "outputs": [
    {
     "data": {
      "text/html": [
       "<div>\n",
       "<style scoped>\n",
       "    .dataframe tbody tr th:only-of-type {\n",
       "        vertical-align: middle;\n",
       "    }\n",
       "\n",
       "    .dataframe tbody tr th {\n",
       "        vertical-align: top;\n",
       "    }\n",
       "\n",
       "    .dataframe thead th {\n",
       "        text-align: right;\n",
       "    }\n",
       "</style>\n",
       "<table border=\"1\" class=\"dataframe\">\n",
       "  <thead>\n",
       "    <tr style=\"text-align: right;\">\n",
       "      <th></th>\n",
       "      <th>Top_category</th>\n",
       "      <th>Product_brand</th>\n",
       "      <th>Product_name</th>\n",
       "      <th>Product_rating</th>\n",
       "      <th>Tot_reviews</th>\n",
       "      <th>Product_price</th>\n",
       "    </tr>\n",
       "  </thead>\n",
       "  <tbody>\n",
       "    <tr>\n",
       "      <td>98</td>\n",
       "      <td>Skin Care</td>\n",
       "      <td>Jack Black</td>\n",
       "      <td>11</td>\n",
       "      <td>4.754545</td>\n",
       "      <td>2600.0</td>\n",
       "      <td>31.997273</td>\n",
       "    </tr>\n",
       "    <tr>\n",
       "      <td>99</td>\n",
       "      <td>Makeup</td>\n",
       "      <td>Jack Black</td>\n",
       "      <td>1</td>\n",
       "      <td>4.700000</td>\n",
       "      <td>739.0</td>\n",
       "      <td>8.000000</td>\n",
       "    </tr>\n",
       "    <tr>\n",
       "      <td>182</td>\n",
       "      <td>Skin Care</td>\n",
       "      <td>The Vintage Cosmetic Company</td>\n",
       "      <td>2</td>\n",
       "      <td>4.800000</td>\n",
       "      <td>61.0</td>\n",
       "      <td>9.990000</td>\n",
       "    </tr>\n",
       "    <tr>\n",
       "      <td>183</td>\n",
       "      <td>Makeup</td>\n",
       "      <td>The Vintage Cosmetic Company</td>\n",
       "      <td>2</td>\n",
       "      <td>4.800000</td>\n",
       "      <td>60.0</td>\n",
       "      <td>9.990000</td>\n",
       "    </tr>\n",
       "  </tbody>\n",
       "</table>\n",
       "</div>"
      ],
      "text/plain": [
       "    Top_category                 Product_brand  Product_name  Product_rating  \\\n",
       "98     Skin Care                    Jack Black            11        4.754545   \n",
       "99        Makeup                    Jack Black             1        4.700000   \n",
       "182    Skin Care  The Vintage Cosmetic Company             2        4.800000   \n",
       "183       Makeup  The Vintage Cosmetic Company             2        4.800000   \n",
       "\n",
       "     Tot_reviews  Product_price  \n",
       "98        2600.0      31.997273  \n",
       "99         739.0       8.000000  \n",
       "182         61.0       9.990000  \n",
       "183         60.0       9.990000  "
      ]
     },
     "execution_count": 70,
     "metadata": {},
     "output_type": "execute_result"
    }
   ],
   "source": [
    "shared_brands=list(set_skincare & set_makeup)\n",
    "df_shared[df_shared['Product_brand'].apply(lambda x: x in shared_brands)]"
   ]
  },
  {
   "cell_type": "markdown",
   "metadata": {},
   "source": [
    "### Closer Look at Jack Black Skincare Products"
   ]
  },
  {
   "cell_type": "code",
   "execution_count": 71,
   "metadata": {},
   "outputs": [
    {
     "data": {
      "text/plain": [
       "<matplotlib.axes._subplots.AxesSubplot at 0x10574c04d48>"
      ]
     },
     "execution_count": 71,
     "metadata": {},
     "output_type": "execute_result"
    },
    {
     "data": {
      "image/png": "[encoded data removed]",
      "text/plain": [
       "<Figure size 432x288 with 1 Axes>"
      ]
     },
     "metadata": {},
     "output_type": "display_data"
    }
   ],
   "source": [
    "df_JackBlack_skincare = df_skincare[df_skincare.Product_brand == \"Jack Black\"]\n",
    "#sns.distplot(df_JackBlack_skincare.Product_rating,color = 'turquoise')\n",
    "df_JackBlack_skincare.Product_rating.plot.hist(color='turquoise')\n",
    "#sns.jointplot(df_JackBlack_skincare['Tot_reviews'],df_JackBlack_skincare['Product_rating'])\n",
    "# plt.xlabel('Product Rating')\n",
    "# plt.title('Distribution of Jack Black Skincare Rating')"
   ]
  },
  {
   "cell_type": "code",
   "execution_count": 72,
   "metadata": {},
   "outputs": [
    {
     "data": {
      "text/html": [
       "<div>\n",
       "<style scoped>\n",
       "    .dataframe tbody tr th:only-of-type {\n",
       "        vertical-align: middle;\n",
       "    }\n",
       "\n",
       "    .dataframe tbody tr th {\n",
       "        vertical-align: top;\n",
       "    }\n",
       "\n",
       "    .dataframe thead th {\n",
       "        text-align: right;\n",
       "    }\n",
       "</style>\n",
       "<table border=\"1\" class=\"dataframe\">\n",
       "  <thead>\n",
       "    <tr style=\"text-align: right;\">\n",
       "      <th></th>\n",
       "      <th>Top_category</th>\n",
       "      <th>Product_category</th>\n",
       "      <th>Product_brand</th>\n",
       "      <th>Product_name</th>\n",
       "      <th>Product_rating</th>\n",
       "      <th>Tot_reviews</th>\n",
       "      <th>Product_price</th>\n",
       "      <th>Product_size</th>\n",
       "      <th>Product_details</th>\n",
       "    </tr>\n",
       "  </thead>\n",
       "  <tbody>\n",
       "    <tr>\n",
       "      <td>3722</td>\n",
       "      <td>Skin Care</td>\n",
       "      <td>Cleansers</td>\n",
       "      <td>Jack Black</td>\n",
       "      <td>Face Buff Energizing Scrub</td>\n",
       "      <td>4.3</td>\n",
       "      <td>41.0</td>\n",
       "      <td>30.0</td>\n",
       "      <td>Item 2238520</td>\n",
       "      <td>Face Buff deep-cleans and smoothes your skin, ...</td>\n",
       "    </tr>\n",
       "    <tr>\n",
       "      <td>1397</td>\n",
       "      <td>Skin Care</td>\n",
       "      <td>Gifts &amp; Value Sets</td>\n",
       "      <td>Jack Black</td>\n",
       "      <td>Shave Essentials</td>\n",
       "      <td>4.9</td>\n",
       "      <td>173.0</td>\n",
       "      <td>25.0</td>\n",
       "      <td>Item 2518087</td>\n",
       "      <td>Pain-free shave essentials to instantly improv...</td>\n",
       "    </tr>\n",
       "    <tr>\n",
       "      <td>3487</td>\n",
       "      <td>Skin Care</td>\n",
       "      <td>Cleansers</td>\n",
       "      <td>Jack Black</td>\n",
       "      <td>Deep Dive Glycolic Facial Cleanser</td>\n",
       "      <td>4.8</td>\n",
       "      <td>253.0</td>\n",
       "      <td>23.0</td>\n",
       "      <td>Size 5.0 oz</td>\n",
       "      <td>Jack Black's Deep Dive Glycolic Facial Cleanse...</td>\n",
       "    </tr>\n",
       "    <tr>\n",
       "      <td>3413</td>\n",
       "      <td>Skin Care</td>\n",
       "      <td>Moisturizers</td>\n",
       "      <td>Jack Black</td>\n",
       "      <td>Clean Break Oil-Free Moisturizer</td>\n",
       "      <td>4.8</td>\n",
       "      <td>123.0</td>\n",
       "      <td>30.0</td>\n",
       "      <td>Size 3.3 oz</td>\n",
       "      <td>Clean Break is a daily, oil-free facial moistu...</td>\n",
       "    </tr>\n",
       "    <tr>\n",
       "      <td>2549</td>\n",
       "      <td>Skin Care</td>\n",
       "      <td>Treatment &amp; Serums</td>\n",
       "      <td>Jack Black</td>\n",
       "      <td>Protein Booster Skin Serum</td>\n",
       "      <td>4.9</td>\n",
       "      <td>64.0</td>\n",
       "      <td>62.0</td>\n",
       "      <td>Size 2.0 oz</td>\n",
       "      <td>Protein Booster Skin Serum is a multifunctiona...</td>\n",
       "    </tr>\n",
       "  </tbody>\n",
       "</table>\n",
       "</div>"
      ],
      "text/plain": [
       "     Top_category    Product_category Product_brand  \\\n",
       "3722    Skin Care           Cleansers    Jack Black   \n",
       "1397    Skin Care  Gifts & Value Sets    Jack Black   \n",
       "3487    Skin Care           Cleansers    Jack Black   \n",
       "3413    Skin Care        Moisturizers    Jack Black   \n",
       "2549    Skin Care  Treatment & Serums    Jack Black   \n",
       "\n",
       "                            Product_name  Product_rating  Tot_reviews  \\\n",
       "3722          Face Buff Energizing Scrub             4.3         41.0   \n",
       "1397                    Shave Essentials             4.9        173.0   \n",
       "3487  Deep Dive Glycolic Facial Cleanser             4.8        253.0   \n",
       "3413    Clean Break Oil-Free Moisturizer             4.8        123.0   \n",
       "2549          Protein Booster Skin Serum             4.9         64.0   \n",
       "\n",
       "      Product_price  Product_size  \\\n",
       "3722           30.0  Item 2238520   \n",
       "1397           25.0  Item 2518087   \n",
       "3487           23.0   Size 5.0 oz   \n",
       "3413           30.0   Size 3.3 oz   \n",
       "2549           62.0   Size 2.0 oz   \n",
       "\n",
       "                                        Product_details  \n",
       "3722  Face Buff deep-cleans and smoothes your skin, ...  \n",
       "1397  Pain-free shave essentials to instantly improv...  \n",
       "3487  Jack Black's Deep Dive Glycolic Facial Cleanse...  \n",
       "3413  Clean Break is a daily, oil-free facial moistu...  \n",
       "2549  Protein Booster Skin Serum is a multifunctiona...  "
      ]
     },
     "execution_count": 72,
     "metadata": {},
     "output_type": "execute_result"
    }
   ],
   "source": [
    "df_JackBlack_skincare.sample(5)"
   ]
  },
  {
   "cell_type": "markdown",
   "metadata": {},
   "source": [
    "### Closer Look at Jack Black Makeup Products"
   ]
  },
  {
   "cell_type": "code",
   "execution_count": 73,
   "metadata": {},
   "outputs": [
    {
     "data": {
      "text/plain": [
       "Text(0.5, 1.0, 'Histogram of Jack Black Makeup Rating')"
      ]
     },
     "execution_count": 73,
     "metadata": {},
     "output_type": "execute_result"
    },
    {
     "data": {
      "image/png": "[encoded data removed]",
      "text/plain": [
       "<Figure size 432x288 with 1 Axes>"
      ]
     },
     "metadata": {},
     "output_type": "display_data"
    }
   ],
   "source": [
    "df_JackBlack_makeup = df_makeup[df_makeup.Product_brand == \"Jack Black\"]\n",
    "#sns.distplot(df_JackBlack_skincare.Product_rating,color = 'turquoise')\n",
    "df_JackBlack_makeup.Product_rating.plot.hist(color='salmon')\n",
    "#sns.jointplot(df_JackBlack_skincare['Tot_reviews'],df_JackBlack_skincare['Product_rating'])\n",
    "plt.xlabel('Product Rating')\n",
    "plt.title('Histogram of Jack Black Makeup Rating')"
   ]
  },
  {
   "cell_type": "markdown",
   "metadata": {},
   "source": [
    "### Export to csv file "
   ]
  },
  {
   "cell_type": "code",
   "execution_count": 74,
   "metadata": {},
   "outputs": [
    {
     "data": {
      "text/html": [
       "<div>\n",
       "<style scoped>\n",
       "    .dataframe tbody tr th:only-of-type {\n",
       "        vertical-align: middle;\n",
       "    }\n",
       "\n",
       "    .dataframe tbody tr th {\n",
       "        vertical-align: top;\n",
       "    }\n",
       "\n",
       "    .dataframe thead th {\n",
       "        text-align: right;\n",
       "    }\n",
       "</style>\n",
       "<table border=\"1\" class=\"dataframe\">\n",
       "  <thead>\n",
       "    <tr style=\"text-align: right;\">\n",
       "      <th></th>\n",
       "      <th>Top_category</th>\n",
       "      <th>Product_category</th>\n",
       "      <th>Product_brand</th>\n",
       "      <th>Product_name</th>\n",
       "      <th>Product_rating</th>\n",
       "      <th>Tot_reviews</th>\n",
       "      <th>Product_price</th>\n",
       "      <th>Product_size</th>\n",
       "      <th>Product_details</th>\n",
       "    </tr>\n",
       "  </thead>\n",
       "  <tbody>\n",
       "    <tr>\n",
       "      <td>5376</td>\n",
       "      <td>Makeup</td>\n",
       "      <td>Face</td>\n",
       "      <td>Clinique</td>\n",
       "      <td>Take The Day Off Makeup Remover For Lids, Lash...</td>\n",
       "      <td>4.7</td>\n",
       "      <td>1973.0</td>\n",
       "      <td>19.50</td>\n",
       "      <td>Item 2153847</td>\n",
       "      <td>Clinique's Take The Day Off Makeup Remover For...</td>\n",
       "    </tr>\n",
       "    <tr>\n",
       "      <td>5936</td>\n",
       "      <td>Makeup</td>\n",
       "      <td>Eyes</td>\n",
       "      <td>Makeup Revolution</td>\n",
       "      <td>Online Only Colour Book Shadow Palette CB05</td>\n",
       "      <td>3.6</td>\n",
       "      <td>5.0</td>\n",
       "      <td>20.00</td>\n",
       "      <td>Size 0.70 oz</td>\n",
       "      <td>Packed full of pressed pigment powders, join t...</td>\n",
       "    </tr>\n",
       "    <tr>\n",
       "      <td>7339</td>\n",
       "      <td>Makeup</td>\n",
       "      <td>Makeup Brushes &amp; Tools</td>\n",
       "      <td>ULTA</td>\n",
       "      <td>Super Blender Sponge</td>\n",
       "      <td>4.1</td>\n",
       "      <td>475.0</td>\n",
       "      <td>4.99</td>\n",
       "      <td>Item 2251305</td>\n",
       "      <td>Blending made easy! Super Blender Sponge by Ul...</td>\n",
       "    </tr>\n",
       "    <tr>\n",
       "      <td>9269</td>\n",
       "      <td>Makeup</td>\n",
       "      <td>Face</td>\n",
       "      <td>MakeUp Eraser</td>\n",
       "      <td>Original Pink MakeUp Eraser</td>\n",
       "      <td>5.0</td>\n",
       "      <td>40.0</td>\n",
       "      <td>20.00</td>\n",
       "      <td>Item 2556128</td>\n",
       "      <td>Erase ALL makeup with JUST water! Including wa...</td>\n",
       "    </tr>\n",
       "    <tr>\n",
       "      <td>5914</td>\n",
       "      <td>Makeup</td>\n",
       "      <td>Eyes</td>\n",
       "      <td>NYX Professional Makeup</td>\n",
       "      <td>Online Only Such A Know-It-All Palette Vol. 1</td>\n",
       "      <td>4.0</td>\n",
       "      <td>1.0</td>\n",
       "      <td>35.00</td>\n",
       "      <td>Item 2558987</td>\n",
       "      <td>Show 'em how it's done with the Such a Know-It...</td>\n",
       "    </tr>\n",
       "  </tbody>\n",
       "</table>\n",
       "</div>"
      ],
      "text/plain": [
       "     Top_category        Product_category            Product_brand  \\\n",
       "5376       Makeup                    Face                 Clinique   \n",
       "5936       Makeup                    Eyes        Makeup Revolution   \n",
       "7339       Makeup  Makeup Brushes & Tools                     ULTA   \n",
       "9269       Makeup                    Face            MakeUp Eraser   \n",
       "5914       Makeup                    Eyes  NYX Professional Makeup   \n",
       "\n",
       "                                           Product_name  Product_rating  \\\n",
       "5376  Take The Day Off Makeup Remover For Lids, Lash...             4.7   \n",
       "5936        Online Only Colour Book Shadow Palette CB05             3.6   \n",
       "7339                               Super Blender Sponge             4.1   \n",
       "9269                        Original Pink MakeUp Eraser             5.0   \n",
       "5914      Online Only Such A Know-It-All Palette Vol. 1             4.0   \n",
       "\n",
       "      Tot_reviews  Product_price  Product_size  \\\n",
       "5376       1973.0          19.50  Item 2153847   \n",
       "5936          5.0          20.00  Size 0.70 oz   \n",
       "7339        475.0           4.99  Item 2251305   \n",
       "9269         40.0          20.00  Item 2556128   \n",
       "5914          1.0          35.00  Item 2558987   \n",
       "\n",
       "                                        Product_details  \n",
       "5376  Clinique's Take The Day Off Makeup Remover For...  \n",
       "5936  Packed full of pressed pigment powders, join t...  \n",
       "7339  Blending made easy! Super Blender Sponge by Ul...  \n",
       "9269  Erase ALL makeup with JUST water! Including wa...  \n",
       "5914  Show 'em how it's done with the Such a Know-It...  "
      ]
     },
     "execution_count": 74,
     "metadata": {},
     "output_type": "execute_result"
    }
   ],
   "source": [
    "df_filtered.to_csv('Final Data.csv') \n",
    "df.sample(5)"
   ]
  }
 ],
 "metadata": {
  "kernelspec": {
   "display_name": "Python 3",
   "language": "python",
   "name": "python3"
  },
  "language_info": {
   "codemirror_mode": {
    "name": "ipython",
    "version": 3
   },
   "file_extension": ".py",
   "mimetype": "text/x-python",
   "name": "python",
   "nbconvert_exporter": "python",
   "pygments_lexer": "ipython3",
   "version": "3.7.4"
  }
 },
 "nbformat": 4,
 "nbformat_minor": 2
}
